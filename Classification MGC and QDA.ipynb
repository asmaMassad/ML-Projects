{
 "cells": [
  {
   "attachments": {},
   "cell_type": "markdown",
   "id": "2b32be47",
   "metadata": {},
   "source": [
    "### Name : Asma Massad"
   ]
  },
  {
   "attachments": {},
   "cell_type": "markdown",
   "id": "b012dc84",
   "metadata": {},
   "source": [
    "# Assignment 2 - Classification MGC and QDA"
   ]
  },
  {
   "attachments": {},
   "cell_type": "markdown",
   "id": "dfa591fc",
   "metadata": {},
   "source": [
    "**<font color=\"#FF0000\" size=4>In this Assignment we will build two classifiers from scratch. The classifiers are Multivariate Gaussian Classifier (MGC) and quadratic discriminant analysis (QDA). Then we will compare their accuracy with classifierrs from sklearn (gaussianNB and SVC). After that, we will will use cross validation with different portions from the training set (10%, 20%, 30% .. etc).</font>**\n",
    "\n"
   ]
  },
  {
   "cell_type": "code",
   "execution_count": 102,
   "id": "e48d5882",
   "metadata": {},
   "outputs": [],
   "source": [
    "import math\n",
    "import pandas as pd\n",
    "import numpy as np\n",
    "import seaborn as sb\n",
    "import matplotlib.pyplot as plt\n",
    "\n",
    "from scipy.stats import multivariate_normal\n",
    "\n",
    "from sklearn.model_selection import GridSearchCV, train_test_split, KFold, cross_val_score, learning_curve\n",
    "from sklearn.metrics import accuracy_score\n",
    "from sklearn.naive_bayes import GaussianNB\n",
    "from sklearn.svm import SVC \n",
    "\n",
    "from sklearn.metrics import confusion_matrix, classification_report, accuracy_score, precision_score, recall_score, roc_curve, roc_auc_score, f1_score\n",
    "\n",
    "\n",
    "%matplotlib inline  "
   ]
  },
  {
   "attachments": {},
   "cell_type": "markdown",
   "id": "715c797b",
   "metadata": {},
   "source": [
    "### Data Loading"
   ]
  },
  {
   "cell_type": "code",
   "execution_count": 103,
   "id": "9e4fd6f2",
   "metadata": {},
   "outputs": [
    {
     "data": {
      "text/html": [
       "<div>\n",
       "<style scoped>\n",
       "    .dataframe tbody tr th:only-of-type {\n",
       "        vertical-align: middle;\n",
       "    }\n",
       "\n",
       "    .dataframe tbody tr th {\n",
       "        vertical-align: top;\n",
       "    }\n",
       "\n",
       "    .dataframe thead th {\n",
       "        text-align: right;\n",
       "    }\n",
       "</style>\n",
       "<table border=\"1\" class=\"dataframe\">\n",
       "  <thead>\n",
       "    <tr style=\"text-align: right;\">\n",
       "      <th></th>\n",
       "      <th>0</th>\n",
       "      <th>1</th>\n",
       "      <th>2</th>\n",
       "      <th>3</th>\n",
       "      <th>4</th>\n",
       "      <th>5</th>\n",
       "      <th>6</th>\n",
       "      <th>7</th>\n",
       "      <th>8</th>\n",
       "      <th>9</th>\n",
       "      <th>...</th>\n",
       "      <th>11</th>\n",
       "      <th>12</th>\n",
       "      <th>13</th>\n",
       "      <th>14</th>\n",
       "      <th>15</th>\n",
       "      <th>16</th>\n",
       "      <th>17</th>\n",
       "      <th>18</th>\n",
       "      <th>19</th>\n",
       "      <th>20</th>\n",
       "    </tr>\n",
       "  </thead>\n",
       "  <tbody>\n",
       "    <tr>\n",
       "      <th>0</th>\n",
       "      <td>-1.563180</td>\n",
       "      <td>0.889130</td>\n",
       "      <td>-0.066184</td>\n",
       "      <td>0.213090</td>\n",
       "      <td>-1.105378</td>\n",
       "      <td>-0.823811</td>\n",
       "      <td>0.572390</td>\n",
       "      <td>0.650379</td>\n",
       "      <td>-2.399465</td>\n",
       "      <td>0.967247</td>\n",
       "      <td>...</td>\n",
       "      <td>0.236133</td>\n",
       "      <td>1.067034</td>\n",
       "      <td>0.358328</td>\n",
       "      <td>-0.071513</td>\n",
       "      <td>0.033498</td>\n",
       "      <td>-0.397892</td>\n",
       "      <td>1.564167</td>\n",
       "      <td>0.796677</td>\n",
       "      <td>-0.589771</td>\n",
       "      <td>0</td>\n",
       "    </tr>\n",
       "    <tr>\n",
       "      <th>1</th>\n",
       "      <td>0.487244</td>\n",
       "      <td>0.723126</td>\n",
       "      <td>-0.410346</td>\n",
       "      <td>0.205746</td>\n",
       "      <td>-0.430689</td>\n",
       "      <td>0.556690</td>\n",
       "      <td>-0.282686</td>\n",
       "      <td>0.743213</td>\n",
       "      <td>3.568294</td>\n",
       "      <td>-1.304291</td>\n",
       "      <td>...</td>\n",
       "      <td>0.132833</td>\n",
       "      <td>-0.899875</td>\n",
       "      <td>-0.307589</td>\n",
       "      <td>-0.280787</td>\n",
       "      <td>0.636312</td>\n",
       "      <td>0.837123</td>\n",
       "      <td>0.653099</td>\n",
       "      <td>0.560830</td>\n",
       "      <td>1.603049</td>\n",
       "      <td>1</td>\n",
       "    </tr>\n",
       "    <tr>\n",
       "      <th>2</th>\n",
       "      <td>-1.216737</td>\n",
       "      <td>0.263227</td>\n",
       "      <td>0.047519</td>\n",
       "      <td>-0.691492</td>\n",
       "      <td>0.815702</td>\n",
       "      <td>-2.078070</td>\n",
       "      <td>0.979983</td>\n",
       "      <td>0.770997</td>\n",
       "      <td>1.036673</td>\n",
       "      <td>1.018810</td>\n",
       "      <td>...</td>\n",
       "      <td>-0.541987</td>\n",
       "      <td>-1.544878</td>\n",
       "      <td>0.397889</td>\n",
       "      <td>0.090999</td>\n",
       "      <td>1.117576</td>\n",
       "      <td>0.470238</td>\n",
       "      <td>0.404427</td>\n",
       "      <td>-1.624903</td>\n",
       "      <td>0.159953</td>\n",
       "      <td>1</td>\n",
       "    </tr>\n",
       "    <tr>\n",
       "      <th>3</th>\n",
       "      <td>-0.463679</td>\n",
       "      <td>-1.121463</td>\n",
       "      <td>2.008842</td>\n",
       "      <td>-0.651919</td>\n",
       "      <td>-0.254896</td>\n",
       "      <td>-1.157199</td>\n",
       "      <td>1.144751</td>\n",
       "      <td>0.986495</td>\n",
       "      <td>-0.084526</td>\n",
       "      <td>1.605068</td>\n",
       "      <td>...</td>\n",
       "      <td>-0.189889</td>\n",
       "      <td>0.233307</td>\n",
       "      <td>-0.480073</td>\n",
       "      <td>-0.179531</td>\n",
       "      <td>-1.808612</td>\n",
       "      <td>-1.308957</td>\n",
       "      <td>-1.150058</td>\n",
       "      <td>-0.310423</td>\n",
       "      <td>-0.749395</td>\n",
       "      <td>0</td>\n",
       "    </tr>\n",
       "    <tr>\n",
       "      <th>4</th>\n",
       "      <td>-1.170454</td>\n",
       "      <td>-0.439287</td>\n",
       "      <td>-0.327421</td>\n",
       "      <td>0.075073</td>\n",
       "      <td>-0.507101</td>\n",
       "      <td>0.455391</td>\n",
       "      <td>-0.399849</td>\n",
       "      <td>0.671238</td>\n",
       "      <td>0.981226</td>\n",
       "      <td>-0.999953</td>\n",
       "      <td>...</td>\n",
       "      <td>0.313305</td>\n",
       "      <td>0.158874</td>\n",
       "      <td>-1.858308</td>\n",
       "      <td>1.218167</td>\n",
       "      <td>-2.038434</td>\n",
       "      <td>-0.149545</td>\n",
       "      <td>0.307887</td>\n",
       "      <td>-2.271531</td>\n",
       "      <td>0.374542</td>\n",
       "      <td>2</td>\n",
       "    </tr>\n",
       "  </tbody>\n",
       "</table>\n",
       "<p>5 rows × 21 columns</p>\n",
       "</div>"
      ],
      "text/plain": [
       "          0         1         2         3         4         5         6  \\\n",
       "0 -1.563180  0.889130 -0.066184  0.213090 -1.105378 -0.823811  0.572390   \n",
       "1  0.487244  0.723126 -0.410346  0.205746 -0.430689  0.556690 -0.282686   \n",
       "2 -1.216737  0.263227  0.047519 -0.691492  0.815702 -2.078070  0.979983   \n",
       "3 -0.463679 -1.121463  2.008842 -0.651919 -0.254896 -1.157199  1.144751   \n",
       "4 -1.170454 -0.439287 -0.327421  0.075073 -0.507101  0.455391 -0.399849   \n",
       "\n",
       "          7         8         9  ...        11        12        13        14  \\\n",
       "0  0.650379 -2.399465  0.967247  ...  0.236133  1.067034  0.358328 -0.071513   \n",
       "1  0.743213  3.568294 -1.304291  ...  0.132833 -0.899875 -0.307589 -0.280787   \n",
       "2  0.770997  1.036673  1.018810  ... -0.541987 -1.544878  0.397889  0.090999   \n",
       "3  0.986495 -0.084526  1.605068  ... -0.189889  0.233307 -0.480073 -0.179531   \n",
       "4  0.671238  0.981226 -0.999953  ...  0.313305  0.158874 -1.858308  1.218167   \n",
       "\n",
       "         15        16        17        18        19  20  \n",
       "0  0.033498 -0.397892  1.564167  0.796677 -0.589771   0  \n",
       "1  0.636312  0.837123  0.653099  0.560830  1.603049   1  \n",
       "2  1.117576  0.470238  0.404427 -1.624903  0.159953   1  \n",
       "3 -1.808612 -1.308957 -1.150058 -0.310423 -0.749395   0  \n",
       "4 -2.038434 -0.149545  0.307887 -2.271531  0.374542   2  \n",
       "\n",
       "[5 rows x 21 columns]"
      ]
     },
     "execution_count": 103,
     "metadata": {},
     "output_type": "execute_result"
    }
   ],
   "source": [
    "df = pd.read_csv('data/dataset.csv')\n",
    "df.head()"
   ]
  },
  {
   "cell_type": "code",
   "execution_count": 104,
   "id": "3fa56687",
   "metadata": {},
   "outputs": [
    {
     "data": {
      "text/plain": [
       "(15000, 21)"
      ]
     },
     "execution_count": 104,
     "metadata": {},
     "output_type": "execute_result"
    }
   ],
   "source": [
    "df.shape"
   ]
  },
  {
   "cell_type": "code",
   "execution_count": 105,
   "id": "ea71dbac",
   "metadata": {},
   "outputs": [
    {
     "data": {
      "text/plain": [
       "0     0\n",
       "1     0\n",
       "2     0\n",
       "3     0\n",
       "4     0\n",
       "5     0\n",
       "6     0\n",
       "7     0\n",
       "8     0\n",
       "9     0\n",
       "10    0\n",
       "11    0\n",
       "12    0\n",
       "13    0\n",
       "14    0\n",
       "15    0\n",
       "16    0\n",
       "17    0\n",
       "18    0\n",
       "19    0\n",
       "20    0\n",
       "dtype: int64"
      ]
     },
     "execution_count": 105,
     "metadata": {},
     "output_type": "execute_result"
    }
   ],
   "source": [
    "df.isnull().sum()"
   ]
  },
  {
   "cell_type": "code",
   "execution_count": 106,
   "id": "08bfe807",
   "metadata": {},
   "outputs": [
    {
     "data": {
      "text/plain": [
       "0    3762\n",
       "1    3757\n",
       "2    3743\n",
       "3    3738\n",
       "Name: 20, dtype: int64"
      ]
     },
     "execution_count": 106,
     "metadata": {},
     "output_type": "execute_result"
    }
   ],
   "source": [
    "df['20'].value_counts()"
   ]
  },
  {
   "attachments": {},
   "cell_type": "markdown",
   "id": "5d12b0c7",
   "metadata": {},
   "source": [
    "**<font color=#FF0000 size=3> Creating training and testing sets </font>**"
   ]
  },
  {
   "cell_type": "code",
   "execution_count": 107,
   "id": "a9034ffd",
   "metadata": {},
   "outputs": [],
   "source": [
    "labelDF = df['20']\n",
    "featuresDF = df.drop('20',axis=1)\n",
    "featuresDF = featuresDF.to_numpy()\n",
    "labelDF = labelDF.to_numpy()\n",
    "trainX, testX, trainY, testY = train_test_split(featuresDF, labelDF,test_size=0.30, random_state=42)"
   ]
  },
  {
   "attachments": {},
   "cell_type": "markdown",
   "id": "a2cc7b70",
   "metadata": {},
   "source": [
    "# Part 1 - MGC vs GaussianNB"
   ]
  },
  {
   "attachments": {},
   "cell_type": "markdown",
   "id": "707e4ebc",
   "metadata": {},
   "source": [
    "**<font color=\"#FF0000\" size=4> Problem One: </font>**\n",
    "    \n",
    "   **<font color=\"#FF0000\"  size=3> 1- Design and implement general Multivariate Gaussian classifier for multiclass classification using python. </font>**\n",
    "   \n",
    "   **<font color=\"#FF0000\"  size=3> 2- Compare your implementation with the Gaussian implemented in sklearn library “class sklearn.naive_bayes.GaussianNB()” using the accuracy measure </font>**\n",
    "   \n",
    "   **<font color=\"#FF0000\"  size=3> 3- Use cross validation technique on train set to draw the training and validation error using different portions of the training set as instructed in the assignment file.  </font>**\n"
   ]
  },
  {
   "attachments": {},
   "cell_type": "markdown",
   "id": "afe4926a",
   "metadata": {},
   "source": [
    " ### 1 - Multivariate Gaussian Classifier (MGC)"
   ]
  },
  {
   "attachments": {},
   "cell_type": "markdown",
   "id": "b9f7c5c2",
   "metadata": {},
   "source": [
    "<font size=3> The multivariate Gaussian distribution with mean µ and covariance matrix Σ, has the following probability density function: </font>"
   ]
  },
  {
   "attachments": {
    "mg_equation-2.jpg": {
     "image/jpeg": "[encoded data removed]"
    }
   },
   "cell_type": "markdown",
   "id": "cdca6df1",
   "metadata": {},
   "source": [
    "![mg_equation-2.jpg](attachment:mg_equation-2.jpg)"
   ]
  },
  {
   "cell_type": "code",
   "execution_count": 108,
   "id": "da22d338",
   "metadata": {},
   "outputs": [],
   "source": [
    "class MGC:\n",
    "    def __init__(self, temp_param='temp'):\n",
    "        \"\"\"I'm using temp_param for get_param method,\n",
    "           so I can later use the learning_curves tool from sklearn which requires get_params()\n",
    "        \"\"\"\n",
    "        self.temp_param = temp_param\n",
    "\n",
    "    def fit(self, X, y):\n",
    "        self.n_classes = len(np.unique(y))\n",
    "        self.xlen, self.num_features = X.shape\n",
    "        self.mean = [[0 for _ in range(self.num_features)] for _ in range(self.n_classes)]\n",
    "        self.std = [np.identity(self.num_features) for _ in range(self.n_classes)]\n",
    "\n",
    "        self.class_list, counts = np.unique(y, return_counts=True)\n",
    "        self.prior = counts / len(y)\n",
    "\n",
    "        class_index = []\n",
    "        \n",
    "        for i in range(self.n_classes):\n",
    "            index = np.argwhere(y == self.class_list[i])\n",
    "            selected_row = X[index, :]\n",
    "            class_index.append(list(index[:, 0]))\n",
    "            self.mean[i] = np.sum(selected_row, axis=0) / counts[i]\n",
    "\n",
    "        diag_i = np.diag_indices(self.num_features)\n",
    "       \n",
    "        for i in range(self.n_classes):\n",
    "            selected_row = X[class_index[i], :]\n",
    "            mean_arr = np.repeat(self.mean[i], selected_row.shape[0], axis=0)\n",
    "            diff = selected_row - mean_arr\n",
    "            diag = np.diag(np.matmul(diff.T, diff)) / counts[i]\n",
    "            self.std[i][diag_i] = diag\n",
    "        \n",
    "        for i in range(self.n_classes):\n",
    "            if np.linalg.det(self.std[i]) == 0:\n",
    "                epsilon = 1e-9\n",
    "                eps = np.identity(self.d) * epsilon\n",
    "                self.std[i] = self.std[i] + eps\n",
    "    \n",
    "    def predict(self, X):\n",
    "        n = X.shape[0]\n",
    "        pred_list = np.zeros((n, self.n_classes))\n",
    "        pred = np.zeros(n)\n",
    "        for j in range(self.n_classes):\n",
    "            for i in range(X.shape[0]):\n",
    "                part = X[i, :] - self.mean[j]\n",
    "                pred_list[i, j] = -1 / 2 * (math.log(np.linalg.det(self.std[j]))) - 1 / 2 * np.linalg.multi_dot(\n",
    "                    [part, np.linalg.inv(self.std[j]), part.T]) + (math.log(self.prior[j]))\n",
    "        for i in range(X.shape[0]):\n",
    "            pred[i] = self.class_list[int(np.argmax(pred_list[i, :]))]\n",
    "        return pred\n",
    "    \n",
    "    def score(self, X, y):\n",
    "        predictions=self.predict(X)\n",
    "        n=len(y)\n",
    "        return(predictions==y).sum()/n\n",
    "    \n",
    "    def get_params(self,deep=True):\n",
    "        def_param = \"noParam\"\n",
    "        return {\"temp_param\": self.temp_param}"
   ]
  },
  {
   "cell_type": "code",
   "execution_count": 109,
   "id": "442de2c5",
   "metadata": {},
   "outputs": [],
   "source": [
    "mgc_clf = MGC()\n",
    "mgc_clf.fit(trainX, trainY)\n",
    "mgc_clf_pred = mgc_clf.predict(testX)"
   ]
  },
  {
   "cell_type": "code",
   "execution_count": 110,
   "id": "c52c5251",
   "metadata": {},
   "outputs": [
    {
     "name": "stdout",
     "output_type": "stream",
     "text": [
      "0.758\n"
     ]
    }
   ],
   "source": [
    "print(mgc_clf.score(testX,testY))"
   ]
  },
  {
   "attachments": {},
   "cell_type": "markdown",
   "id": "d8d2fc51",
   "metadata": {},
   "source": [
    "### 2 - Sklearn GaussianNB"
   ]
  },
  {
   "cell_type": "code",
   "execution_count": 111,
   "id": "1ac85c7c",
   "metadata": {},
   "outputs": [
    {
     "data": {
      "text/plain": [
       "GaussianNB()"
      ]
     },
     "execution_count": 111,
     "metadata": {},
     "output_type": "execute_result"
    }
   ],
   "source": [
    "gaussNB_clf = GaussianNB()\n",
    "gaussNB_clf.fit(trainX, trainY)"
   ]
  },
  {
   "cell_type": "code",
   "execution_count": 112,
   "id": "12278ffe",
   "metadata": {},
   "outputs": [],
   "source": [
    "gaussNB_clf_predY = gaussNB_clf.predict(testX)"
   ]
  },
  {
   "cell_type": "code",
   "execution_count": 113,
   "id": "4a67e7b9",
   "metadata": {},
   "outputs": [
    {
     "name": "stdout",
     "output_type": "stream",
     "text": [
      "              precision    recall  f1-score   support\n",
      "\n",
      "           0       0.79      0.75      0.77      1155\n",
      "           1       0.75      0.82      0.79      1096\n",
      "           2       0.76      0.72      0.74      1091\n",
      "           3       0.73      0.73      0.73      1158\n",
      "\n",
      "    accuracy                           0.76      4500\n",
      "   macro avg       0.76      0.76      0.76      4500\n",
      "weighted avg       0.76      0.76      0.76      4500\n",
      "\n"
     ]
    }
   ],
   "source": [
    "clf_report = classification_report(testY, gaussNB_clf_predY)\n",
    "print(clf_report)"
   ]
  },
  {
   "attachments": {},
   "cell_type": "markdown",
   "id": "f45b9453",
   "metadata": {},
   "source": [
    "**<font color=\"#FF0000\" size=3> MGC & GaussianNB Accuracy Comparison </font>**"
   ]
  },
  {
   "cell_type": "code",
   "execution_count": 114,
   "id": "cebe2d75",
   "metadata": {},
   "outputs": [
    {
     "name": "stdout",
     "output_type": "stream",
     "text": [
      "MGC Accuracy: 75.80 %\n",
      "GaussianNB Accracy: 75.80 %\n"
     ]
    }
   ],
   "source": [
    "print('MGC Accuracy: %.2f' % (mgc_clf.score(testX,testY)*100), \"%\")\n",
    "print('GaussianNB Accracy: %.2f' % (gaussNB_clf.score(testX,testY)*100), \"%\")"
   ]
  },
  {
   "attachments": {},
   "cell_type": "markdown",
   "id": "365ee24c",
   "metadata": {},
   "source": [
    "**<font color=\"FF0000\" size=3> Note:</font>** \n",
    "GaussianNB has two hyperparameters epsilon and \"priors\" which is prior probabilities of the classes. If specified the priors are not adjusted according to the data(in our case we calculated according to the data). In our classifier MGC we used the same default value of epsilon as in the GaussianNB, and we calculated the priors and didn't provid a predefined ones. And since both classifiers uses the same underlying mathematics, the results were identical.  "
   ]
  },
  {
   "attachments": {},
   "cell_type": "markdown",
   "id": "11660411",
   "metadata": {},
   "source": [
    "### 3- Cross Validation"
   ]
  },
  {
   "cell_type": "code",
   "execution_count": 115,
   "id": "261506a8",
   "metadata": {},
   "outputs": [
    {
     "data": {
      "text/plain": [
       "array([0.1, 0.2, 0.3, 0.4, 0.5, 0.6, 0.7, 0.8, 0.9, 1. ])"
      ]
     },
     "execution_count": 115,
     "metadata": {},
     "output_type": "execute_result"
    }
   ],
   "source": [
    "train_sizes_list = np.linspace(0.1, 1.0, 10)\n",
    "train_sizes_list"
   ]
  },
  {
   "cell_type": "code",
   "execution_count": 116,
   "id": "76e2b261",
   "metadata": {},
   "outputs": [],
   "source": [
    "train_sizes, MGC_train_scores, MGC_valid_scores = learning_curve(MGC(), trainX, trainY, train_sizes=train_sizes_list, cv=10)"
   ]
  },
  {
   "cell_type": "code",
   "execution_count": 117,
   "id": "a9f1b427",
   "metadata": {},
   "outputs": [],
   "source": [
    "train_sizes, gaussNB_train_scores, gaussNB_valid_scores = learning_curve(GaussianNB(), trainX, trainY, train_sizes=train_sizes_list, cv=10)"
   ]
  },
  {
   "cell_type": "code",
   "execution_count": 118,
   "id": "3ec3e8c0",
   "metadata": {},
   "outputs": [
    {
     "data": {
      "text/plain": [
       "<matplotlib.legend.Legend at 0x17f8ddc1850>"
      ]
     },
     "execution_count": 118,
     "metadata": {},
     "output_type": "execute_result"
    },
    {
     "data": {
      "image/png": "[encoded data removed]",
      "text/plain": [
       "<Figure size 1080x360 with 2 Axes>"
      ]
     },
     "metadata": {
      "needs_background": "light"
     },
     "output_type": "display_data"
    }
   ],
   "source": [
    "# Plot the training and validation curves\n",
    "\n",
    "MGC_train_mean = np.mean(MGC_train_scores, axis=1)\n",
    "MGC_val_mean = np.mean(MGC_valid_scores, axis=1)\n",
    "\n",
    "gaussNB_train_mean = np.mean(gaussNB_train_scores, axis=1)\n",
    "gaussNB_val_mean = np.mean(gaussNB_valid_scores, axis=1)\n",
    "\n",
    "plt.figure(figsize=(15,5))\n",
    "\n",
    "plt.subplot(1, 2, 1) \n",
    "plt.plot(train_sizes, MGC_train_mean, color='blue', marker='o', markersize=5, label='Training Accuracy')\n",
    "plt.plot(train_sizes, MGC_val_mean, color='orange', marker='x', markersize=5, label='Validation Accuracy')\n",
    "plt.title('Training and Validation Curves for MGC')\n",
    "plt.xlabel('Training Data Size')\n",
    "plt.ylabel('Model accuracy')\n",
    "plt.grid()\n",
    "plt.legend(loc='lower right')\n",
    "\n",
    "plt.subplot(1, 2, 2) \n",
    "plt.plot(train_sizes, gaussNB_train_mean, color='blue', marker='o', markersize=5, label='Training Accuracy')\n",
    "plt.plot(train_sizes, gaussNB_val_mean, color='orange', marker='x', markersize=5, label='Validation Accuracy')\n",
    "plt.title('Training and Validation Curves for gaussNB')\n",
    "plt.xlabel('Training Data Size')\n",
    "plt.ylabel('Model accuracy')\n",
    "plt.grid()\n",
    "plt.legend(loc='lower right')"
   ]
  },
  {
   "attachments": {},
   "cell_type": "markdown",
   "id": "e2b55611",
   "metadata": {},
   "source": [
    "**<font color=\"FF0000\" size=3> Results:</font>** \n",
    "**<font size=3>  When training sample size less than 2000, the difference between training and validation accuracy is much larger, and this indicates overfitting issues. However, for training size greater than 2000, the model is better. It is a sign of good bias-variance trade-off.</font>**"
   ]
  },
  {
   "attachments": {},
   "cell_type": "markdown",
   "id": "6d78655b",
   "metadata": {},
   "source": [
    "# Part 2 - QDA vs SVC"
   ]
  },
  {
   "attachments": {},
   "cell_type": "markdown",
   "id": "aa6eb849",
   "metadata": {},
   "source": [
    "**<font color=\"#FF0000\" size=4> Problem Two: </font>**\n",
    "    \n",
    "   **<font color=\"#FF0000\"  size=3> 1- Design and implement general quadratic discriminant analysis (QDA) classifier for multiclass classification using python. </font>**\n",
    "   \n",
    "   **<font color=\"#FF0000\"  size=3> 2- Compare your implementation of the second algorithm (QDA) with the SVM implemented in sklearn library “class sklearn.svm.SVC ( )”  using the accuracy measure. </font>**\n",
    "   \n",
    "   **<font color=\"#FF0000\"  size=3> 3- Use cross validation technique on train set to draw the training and validation error using different portions of the training set as instructed in the assignment file.  </font>**\n"
   ]
  },
  {
   "attachments": {},
   "cell_type": "markdown",
   "id": "9775fb58",
   "metadata": {},
   "source": [
    "### 1- Quadratic Discriminant Analysis (QDA)"
   ]
  },
  {
   "attachments": {
    "qda.png": {
     "image/png": "[encoded data removed]"
    }
   },
   "cell_type": "markdown",
   "id": "66014b13",
   "metadata": {},
   "source": [
    "![qda.png](attachment:qda.png)"
   ]
  },
  {
   "cell_type": "code",
   "execution_count": 119,
   "id": "fcdbbb2a",
   "metadata": {},
   "outputs": [],
   "source": [
    "class QDA:\n",
    "    def __init__(self, temp_param='temp'):\n",
    "        \"\"\"I'm using temp_param for get_param method,\n",
    "           so I can later use the learning_curves tool from sklearn which requires get_params()\n",
    "        \"\"\"\n",
    "        self.temp_param = temp_param\n",
    "    \n",
    "    def fit(self, X, y):\n",
    "        self.prior_arr = []\n",
    "        self.mean_arr = []\n",
    "        self.cov_arr = []\n",
    "        \n",
    "        self.classes = np.unique(y)\n",
    "\n",
    "        for i in self.classes:\n",
    "            x_in_class = X[y == i]\n",
    "            self.prior_arr.append( x_in_class.shape[0] / X.shape[0])\n",
    "            self.mean_arr.append(np.mean(x_in_class, axis=0))\n",
    "            self.cov_arr.append(np.cov(x_in_class, rowvar=False)) \n",
    "\n",
    "    def predict(self, X):\n",
    "        pred_arr = []\n",
    "        for x in X:\n",
    "            post_arr = []\n",
    "            for i in self.classes:\n",
    "                prior = np.log(self.prior_arr[i])\n",
    "                inv_cov = np.linalg.inv(self.cov_arr[i])\n",
    "                inv_cov_det = np.linalg.det(inv_cov)\n",
    "                diff = x-self.mean_arr[i]\n",
    "                post = 0.5*np.log(inv_cov_det) -( 0.5*np.linalg.multi_dot([diff.T,  inv_cov ,diff]))+ prior\n",
    "                post_arr.append(post)\n",
    "                \n",
    "            pred = self.classes[np.argmax(post_arr)]\n",
    "            pred_arr.append(pred)\n",
    "        return np.array(pred_arr)\n",
    "    \n",
    "    def score(self, X, y):\n",
    "        predictions=self.predict(X)\n",
    "        n=len(y)\n",
    "        return(predictions==y).sum()/n\n",
    "    \n",
    "    def get_params(self,deep=True):\n",
    "        def_param = \"noParam\"\n",
    "        return {\"temp_param\": self.temp_param}"
   ]
  },
  {
   "cell_type": "code",
   "execution_count": 120,
   "id": "dda2e561",
   "metadata": {},
   "outputs": [],
   "source": [
    "qda = QDA()\n",
    "qda.fit(trainX, trainY)\n",
    "qda_preds = qda.predict(testX)"
   ]
  },
  {
   "cell_type": "code",
   "execution_count": 121,
   "id": "b8a7ca5e",
   "metadata": {},
   "outputs": [
    {
     "data": {
      "text/plain": [
       "0.7608888888888888"
      ]
     },
     "execution_count": 121,
     "metadata": {},
     "output_type": "execute_result"
    }
   ],
   "source": [
    "qda.score(testX,testY)"
   ]
  },
  {
   "attachments": {},
   "cell_type": "markdown",
   "id": "da9c97c8",
   "metadata": {},
   "source": [
    "### 2- Sklearn SVC\n"
   ]
  },
  {
   "cell_type": "code",
   "execution_count": 122,
   "id": "c47d5a9b",
   "metadata": {},
   "outputs": [
    {
     "data": {
      "text/plain": [
       "SVC(gamma='auto')"
      ]
     },
     "execution_count": 122,
     "metadata": {},
     "output_type": "execute_result"
    }
   ],
   "source": [
    "svc_clf = SVC(gamma='auto')\n",
    "svc_clf.fit(trainX, trainY)"
   ]
  },
  {
   "cell_type": "code",
   "execution_count": 123,
   "id": "b56ef57e",
   "metadata": {},
   "outputs": [],
   "source": [
    "svc_predY = svc_clf.predict(testX)"
   ]
  },
  {
   "cell_type": "code",
   "execution_count": 124,
   "id": "3b6fed26",
   "metadata": {},
   "outputs": [
    {
     "name": "stdout",
     "output_type": "stream",
     "text": [
      "              precision    recall  f1-score   support\n",
      "\n",
      "           0       0.85      0.78      0.81      1155\n",
      "           1       0.82      0.81      0.81      1096\n",
      "           2       0.80      0.85      0.83      1091\n",
      "           3       0.79      0.82      0.80      1158\n",
      "\n",
      "    accuracy                           0.81      4500\n",
      "   macro avg       0.82      0.81      0.81      4500\n",
      "weighted avg       0.82      0.81      0.81      4500\n",
      "\n"
     ]
    }
   ],
   "source": [
    "svc_clf_report = classification_report(testY,svc_predY)\n",
    "print(svc_clf_report)"
   ]
  },
  {
   "attachments": {},
   "cell_type": "markdown",
   "id": "7673e89f",
   "metadata": {},
   "source": [
    "**<font color=\"#FF0000\" size=3> QDA & SVC Accuracy Comparison </font>**"
   ]
  },
  {
   "cell_type": "code",
   "execution_count": 125,
   "id": "e0f29bf0",
   "metadata": {},
   "outputs": [
    {
     "name": "stdout",
     "output_type": "stream",
     "text": [
      "QDA Accuracy: 76.09 %\n",
      "SVC Accracy: 81.42 %\n"
     ]
    }
   ],
   "source": [
    "print('QDA Accuracy: %.2f' % (qda.score(testX,testY)*100), \"%\")\n",
    "print('SVC Accracy: %.2f' % (svc_clf.score(testX,testY)*100), \"%\")"
   ]
  },
  {
   "attachments": {},
   "cell_type": "markdown",
   "id": "24d3194a",
   "metadata": {},
   "source": [
    "**<font color=\"FF0000\" size=3> Note:</font>** \n",
    "From the accuracy results we can conclude that even though QDA is computationally more efficient, still it underperforms in comparison to SVC."
   ]
  },
  {
   "attachments": {},
   "cell_type": "markdown",
   "id": "cf236008",
   "metadata": {},
   "source": [
    "### 3- Cross Validation "
   ]
  },
  {
   "cell_type": "code",
   "execution_count": 126,
   "id": "30980a33",
   "metadata": {},
   "outputs": [],
   "source": [
    "\n",
    "train_sizes, QDA_train_scores, QDA_valid_scores = learning_curve(QDA(), trainX, trainY, train_sizes=train_sizes_list, cv=10)"
   ]
  },
  {
   "cell_type": "code",
   "execution_count": 127,
   "id": "81303f26",
   "metadata": {},
   "outputs": [],
   "source": [
    "\n",
    "train_sizes, SVC_train_scores, SVC_valid_scores = learning_curve(SVC(gamma='auto'), trainX, trainY, train_sizes=train_sizes_list, cv=10)"
   ]
  },
  {
   "cell_type": "code",
   "execution_count": 128,
   "id": "c67cabf7",
   "metadata": {},
   "outputs": [
    {
     "data": {
      "text/plain": [
       "<matplotlib.legend.Legend at 0x17f8e332ee0>"
      ]
     },
     "execution_count": 128,
     "metadata": {},
     "output_type": "execute_result"
    },
    {
     "data": {
      "image/png": "[encoded data removed]",
      "text/plain": [
       "<Figure size 1080x360 with 2 Axes>"
      ]
     },
     "metadata": {
      "needs_background": "light"
     },
     "output_type": "display_data"
    }
   ],
   "source": [
    "# Plot the training and validation curves\n",
    "\n",
    "QDA_train_mean = np.mean(QDA_train_scores, axis=1)\n",
    "QDA_val_mean = np.mean(QDA_valid_scores, axis=1)\n",
    "\n",
    "SVC_train_mean = np.mean(SVC_train_scores, axis=1)\n",
    "SVC_val_mean = np.mean(SVC_valid_scores, axis=1)\n",
    "\n",
    "plt.figure(figsize=(15,5))\n",
    "\n",
    "plt.subplot(1, 2, 1) \n",
    "plt.plot(train_sizes, QDA_train_mean, color='blue', marker='o', markersize=5, label='Training Accuracy')\n",
    "plt.plot(train_sizes, QDA_val_mean, color='orange', marker='x', markersize=5, label='Validation Accuracy')\n",
    "plt.title('Training and Validation Curves for QDA')\n",
    "plt.xlabel('Training Data Size')\n",
    "plt.ylabel('Model accuracy')\n",
    "plt.grid()\n",
    "plt.legend(loc='lower right')\n",
    "\n",
    "plt.subplot(1, 2, 2) \n",
    "plt.plot(train_sizes, SVC_train_mean, color='blue', marker='o', markersize=5, label='Training Accuracy')\n",
    "plt.plot(train_sizes, SVC_val_mean, color='orange', marker='x', markersize=5, label='Validation Accuracy')\n",
    "plt.title('Training and Validation Curves for SVC')\n",
    "plt.xlabel('Training Data Size')\n",
    "plt.ylabel('Model accuracy')\n",
    "plt.grid()\n",
    "plt.legend(loc='lower right')"
   ]
  },
  {
   "attachments": {},
   "cell_type": "markdown",
   "id": "0bdda085",
   "metadata": {},
   "source": [
    "**<font color=\"FF0000\" size=3> Results:</font>** \n",
    "**<font size=3>  When training sample size less than 4000, the difference between training and validation accuracy is much larger, an this indicates overfitting issues. However, for training size greater than 4000, the model is better. It is a sign of good bias-variance trade-off.</font>**\n"
   ]
  },
  {
   "cell_type": "code",
   "execution_count": null,
   "id": "9532f4c0",
   "metadata": {},
   "outputs": [],
   "source": []
  }
 ],
 "metadata": {
  "kernelspec": {
   "display_name": "Python 3 (ipykernel)",
   "language": "python",
   "name": "python3"
  },
  "language_info": {
   "codemirror_mode": {
    "name": "ipython",
    "version": 3
   },
   "file_extension": ".py",
   "mimetype": "text/x-python",
   "name": "python",
   "nbconvert_exporter": "python",
   "pygments_lexer": "ipython3",
   "version": "3.10.9"
  }
 },
 "nbformat": 4,
 "nbformat_minor": 5
}
