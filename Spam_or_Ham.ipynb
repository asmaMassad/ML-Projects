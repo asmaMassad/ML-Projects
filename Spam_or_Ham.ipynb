{
 "cells": [
  {
   "attachments": {},
   "cell_type": "markdown",
   "id": "2b32be47",
   "metadata": {},
   "source": [
    "### Name : Asma Massad"
   ]
  },
  {
   "attachments": {},
   "cell_type": "markdown",
   "id": "b012dc84",
   "metadata": {},
   "source": [
    "# Assignment 1 - Spam Classification"
   ]
  },
  {
   "attachments": {},
   "cell_type": "markdown",
   "id": "dfa591fc",
   "metadata": {},
   "source": [
    "**<font color=\"#FF0000\" size=4> In this Assignment we will explore and experiment with several classification and predictive models (KNN, SVM, Decision tree and Naïve Bayesian) to differentiate between spam and ham text messages. </font>**\n",
    "\n"
   ]
  },
  {
   "cell_type": "code",
   "execution_count": 1,
   "id": "e48d5882",
   "metadata": {},
   "outputs": [],
   "source": [
    "import pandas as pd\n",
    "import numpy as np\n",
    "import seaborn as sb\n",
    "import matplotlib.pyplot as plt\n",
    "\n",
    "from nltk.corpus import stopwords\n",
    "\n",
    "from sklearn.feature_extraction.text import TfidfVectorizer\n",
    "from sklearn.preprocessing import LabelEncoder\n",
    "\n",
    "from sklearn.model_selection import GridSearchCV, train_test_split\n",
    "\n",
    "from sklearn.tree import DecisionTreeClassifier\n",
    "from sklearn.neighbors import KNeighborsClassifier\n",
    "from sklearn.naive_bayes import MultinomialNB\n",
    "from sklearn.svm import SVC\n",
    "\n",
    "from sklearn.metrics import confusion_matrix, classification_report, accuracy_score, precision_score, recall_score, roc_curve, roc_auc_score, f1_score\n",
    "\n",
    "import string\n",
    "\n",
    "%matplotlib inline  "
   ]
  },
  {
   "attachments": {},
   "cell_type": "markdown",
   "id": "715c797b",
   "metadata": {},
   "source": [
    "### Data Loading"
   ]
  },
  {
   "cell_type": "code",
   "execution_count": 2,
   "id": "9e4fd6f2",
   "metadata": {},
   "outputs": [
    {
     "data": {
      "text/html": [
       "<div>\n",
       "<style scoped>\n",
       "    .dataframe tbody tr th:only-of-type {\n",
       "        vertical-align: middle;\n",
       "    }\n",
       "\n",
       "    .dataframe tbody tr th {\n",
       "        vertical-align: top;\n",
       "    }\n",
       "\n",
       "    .dataframe thead th {\n",
       "        text-align: right;\n",
       "    }\n",
       "</style>\n",
       "<table border=\"1\" class=\"dataframe\">\n",
       "  <thead>\n",
       "    <tr style=\"text-align: right;\">\n",
       "      <th></th>\n",
       "      <th>sms_label</th>\n",
       "      <th>sms_text</th>\n",
       "    </tr>\n",
       "  </thead>\n",
       "  <tbody>\n",
       "    <tr>\n",
       "      <th>0</th>\n",
       "      <td>ham</td>\n",
       "      <td>Go until jurong point, crazy.. Available only ...</td>\n",
       "    </tr>\n",
       "    <tr>\n",
       "      <th>1</th>\n",
       "      <td>ham</td>\n",
       "      <td>Ok lar... Joking wif u oni...</td>\n",
       "    </tr>\n",
       "    <tr>\n",
       "      <th>2</th>\n",
       "      <td>spam</td>\n",
       "      <td>Free entry in 2 a wkly comp to win FA Cup fina...</td>\n",
       "    </tr>\n",
       "    <tr>\n",
       "      <th>3</th>\n",
       "      <td>ham</td>\n",
       "      <td>U dun say so early hor... U c already then say...</td>\n",
       "    </tr>\n",
       "    <tr>\n",
       "      <th>4</th>\n",
       "      <td>ham</td>\n",
       "      <td>Nah I don't think he goes to usf, he lives aro...</td>\n",
       "    </tr>\n",
       "  </tbody>\n",
       "</table>\n",
       "</div>"
      ],
      "text/plain": [
       "  sms_label                                           sms_text\n",
       "0       ham  Go until jurong point, crazy.. Available only ...\n",
       "1       ham                      Ok lar... Joking wif u oni...\n",
       "2      spam  Free entry in 2 a wkly comp to win FA Cup fina...\n",
       "3       ham  U dun say so early hor... U c already then say...\n",
       "4       ham  Nah I don't think he goes to usf, he lives aro..."
      ]
     },
     "execution_count": 2,
     "metadata": {},
     "output_type": "execute_result"
    }
   ],
   "source": [
    "df = pd.read_csv('data/SMSSpamCollection.txt', sep = '\\t', header=None, names=[\"sms_label\", \"sms_text\"])\n",
    "df.head()"
   ]
  },
  {
   "cell_type": "code",
   "execution_count": 3,
   "id": "3fa56687",
   "metadata": {},
   "outputs": [
    {
     "data": {
      "text/plain": [
       "(5572, 2)"
      ]
     },
     "execution_count": 3,
     "metadata": {},
     "output_type": "execute_result"
    }
   ],
   "source": [
    "df.shape"
   ]
  },
  {
   "cell_type": "code",
   "execution_count": 4,
   "id": "ea71dbac",
   "metadata": {},
   "outputs": [
    {
     "data": {
      "text/plain": [
       "sms_label    0\n",
       "sms_text     0\n",
       "dtype: int64"
      ]
     },
     "execution_count": 4,
     "metadata": {},
     "output_type": "execute_result"
    }
   ],
   "source": [
    "df.isnull().sum()"
   ]
  },
  {
   "attachments": {},
   "cell_type": "markdown",
   "id": "ae86362f",
   "metadata": {},
   "source": [
    "### Data Preprocessing and Feature Engineering"
   ]
  },
  {
   "cell_type": "code",
   "execution_count": 5,
   "id": "08bfe807",
   "metadata": {},
   "outputs": [
    {
     "data": {
      "text/plain": [
       "ham     4825\n",
       "spam     747\n",
       "Name: sms_label, dtype: int64"
      ]
     },
     "execution_count": 5,
     "metadata": {},
     "output_type": "execute_result"
    }
   ],
   "source": [
    "df['sms_label'].value_counts()"
   ]
  },
  {
   "cell_type": "code",
   "execution_count": 6,
   "id": "ab2b6de3",
   "metadata": {},
   "outputs": [
    {
     "data": {
      "text/plain": [
       "<AxesSubplot:title={'center':'Spam-Ham Percentages'}, ylabel='sms_label'>"
      ]
     },
     "execution_count": 6,
     "metadata": {},
     "output_type": "execute_result"
    },
    {
     "data": {
      "image/png": "[encoded data removed]",
      "text/plain": [
       "<Figure size 360x360 with 1 Axes>"
      ]
     },
     "metadata": {},
     "output_type": "display_data"
    }
   ],
   "source": [
    "label = df['sms_label'].value_counts()\n",
    "label.plot.pie(figsize=(5, 5),title='Spam-Ham Percentages',\n",
    "                             fontsize=14, \n",
    "                             legend=True, \n",
    "                             autopct=lambda v: \"{:0.1f}%\".format(v))"
   ]
  },
  {
   "attachments": {},
   "cell_type": "markdown",
   "id": "d8d2fc51",
   "metadata": {},
   "source": [
    "### Adding  sms_length column to the dataFrame"
   ]
  },
  {
   "cell_type": "code",
   "execution_count": 7,
   "id": "b4eb943d",
   "metadata": {},
   "outputs": [
    {
     "data": {
      "text/html": [
       "<div>\n",
       "<style scoped>\n",
       "    .dataframe tbody tr th:only-of-type {\n",
       "        vertical-align: middle;\n",
       "    }\n",
       "\n",
       "    .dataframe tbody tr th {\n",
       "        vertical-align: top;\n",
       "    }\n",
       "\n",
       "    .dataframe thead th {\n",
       "        text-align: right;\n",
       "    }\n",
       "</style>\n",
       "<table border=\"1\" class=\"dataframe\">\n",
       "  <thead>\n",
       "    <tr style=\"text-align: right;\">\n",
       "      <th></th>\n",
       "      <th>sms_label</th>\n",
       "      <th>sms_text</th>\n",
       "      <th>sms_length</th>\n",
       "    </tr>\n",
       "  </thead>\n",
       "  <tbody>\n",
       "    <tr>\n",
       "      <th>0</th>\n",
       "      <td>ham</td>\n",
       "      <td>Go until jurong point, crazy.. Available only ...</td>\n",
       "      <td>20</td>\n",
       "    </tr>\n",
       "    <tr>\n",
       "      <th>1</th>\n",
       "      <td>ham</td>\n",
       "      <td>Ok lar... Joking wif u oni...</td>\n",
       "      <td>6</td>\n",
       "    </tr>\n",
       "    <tr>\n",
       "      <th>2</th>\n",
       "      <td>spam</td>\n",
       "      <td>Free entry in 2 a wkly comp to win FA Cup fina...</td>\n",
       "      <td>28</td>\n",
       "    </tr>\n",
       "  </tbody>\n",
       "</table>\n",
       "</div>"
      ],
      "text/plain": [
       "  sms_label                                           sms_text  sms_length\n",
       "0       ham  Go until jurong point, crazy.. Available only ...          20\n",
       "1       ham                      Ok lar... Joking wif u oni...           6\n",
       "2      spam  Free entry in 2 a wkly comp to win FA Cup fina...          28"
      ]
     },
     "execution_count": 7,
     "metadata": {},
     "output_type": "execute_result"
    }
   ],
   "source": [
    "df['sms_length'] = df['sms_text'].str.split().str.len()\n",
    "df.head(3)"
   ]
  },
  {
   "attachments": {},
   "cell_type": "markdown",
   "id": "f1bf8db9",
   "metadata": {},
   "source": [
    "**<font color=\"#FF0000\" size=3> Now we need to clean the text by converting any upper case character into lower case form, and then removing stopwords and punctuation marks. Finally we can create a bag of words containing all the unique words in the dataset, and consider each word as a feature. </font>**"
   ]
  },
  {
   "attachments": {},
   "cell_type": "markdown",
   "id": "9e8cf3e7",
   "metadata": {},
   "source": [
    "#### Convert to lower case"
   ]
  },
  {
   "cell_type": "code",
   "execution_count": 8,
   "id": "7504055a",
   "metadata": {},
   "outputs": [
    {
     "data": {
      "text/html": [
       "<div>\n",
       "<style scoped>\n",
       "    .dataframe tbody tr th:only-of-type {\n",
       "        vertical-align: middle;\n",
       "    }\n",
       "\n",
       "    .dataframe tbody tr th {\n",
       "        vertical-align: top;\n",
       "    }\n",
       "\n",
       "    .dataframe thead th {\n",
       "        text-align: right;\n",
       "    }\n",
       "</style>\n",
       "<table border=\"1\" class=\"dataframe\">\n",
       "  <thead>\n",
       "    <tr style=\"text-align: right;\">\n",
       "      <th></th>\n",
       "      <th>sms_label</th>\n",
       "      <th>sms_text</th>\n",
       "      <th>sms_length</th>\n",
       "    </tr>\n",
       "  </thead>\n",
       "  <tbody>\n",
       "    <tr>\n",
       "      <th>0</th>\n",
       "      <td>ham</td>\n",
       "      <td>go until jurong point, crazy.. available only ...</td>\n",
       "      <td>20</td>\n",
       "    </tr>\n",
       "    <tr>\n",
       "      <th>1</th>\n",
       "      <td>ham</td>\n",
       "      <td>ok lar... joking wif u oni...</td>\n",
       "      <td>6</td>\n",
       "    </tr>\n",
       "    <tr>\n",
       "      <th>2</th>\n",
       "      <td>spam</td>\n",
       "      <td>free entry in 2 a wkly comp to win fa cup fina...</td>\n",
       "      <td>28</td>\n",
       "    </tr>\n",
       "  </tbody>\n",
       "</table>\n",
       "</div>"
      ],
      "text/plain": [
       "  sms_label                                           sms_text  sms_length\n",
       "0       ham  go until jurong point, crazy.. available only ...          20\n",
       "1       ham                      ok lar... joking wif u oni...           6\n",
       "2      spam  free entry in 2 a wkly comp to win fa cup fina...          28"
      ]
     },
     "execution_count": 8,
     "metadata": {},
     "output_type": "execute_result"
    }
   ],
   "source": [
    "\n",
    "df['sms_text']= df['sms_text'].str.lower()\n",
    "df.head(3)"
   ]
  },
  {
   "cell_type": "code",
   "execution_count": 9,
   "id": "7960fee9",
   "metadata": {},
   "outputs": [],
   "source": [
    "stopWords = stopwords.words('english')\n",
    "punctuation = string.punctuation"
   ]
  },
  {
   "attachments": {},
   "cell_type": "markdown",
   "id": "309b530e",
   "metadata": {},
   "source": [
    "#### Remove stopwords & punctuation"
   ]
  },
  {
   "cell_type": "code",
   "execution_count": 10,
   "id": "ce549a8b",
   "metadata": {},
   "outputs": [
    {
     "data": {
      "text/html": [
       "<div>\n",
       "<style scoped>\n",
       "    .dataframe tbody tr th:only-of-type {\n",
       "        vertical-align: middle;\n",
       "    }\n",
       "\n",
       "    .dataframe tbody tr th {\n",
       "        vertical-align: top;\n",
       "    }\n",
       "\n",
       "    .dataframe thead th {\n",
       "        text-align: right;\n",
       "    }\n",
       "</style>\n",
       "<table border=\"1\" class=\"dataframe\">\n",
       "  <thead>\n",
       "    <tr style=\"text-align: right;\">\n",
       "      <th></th>\n",
       "      <th>sms_label</th>\n",
       "      <th>sms_text</th>\n",
       "      <th>sms_length</th>\n",
       "      <th>no_stopwords</th>\n",
       "    </tr>\n",
       "  </thead>\n",
       "  <tbody>\n",
       "    <tr>\n",
       "      <th>0</th>\n",
       "      <td>ham</td>\n",
       "      <td>go until jurong point, crazy.. available only ...</td>\n",
       "      <td>20</td>\n",
       "      <td>go jurong point, crazy.. available bugis n gre...</td>\n",
       "    </tr>\n",
       "    <tr>\n",
       "      <th>1</th>\n",
       "      <td>ham</td>\n",
       "      <td>ok lar... joking wif u oni...</td>\n",
       "      <td>6</td>\n",
       "      <td>ok lar... joking wif u oni...</td>\n",
       "    </tr>\n",
       "    <tr>\n",
       "      <th>2</th>\n",
       "      <td>spam</td>\n",
       "      <td>free entry in 2 a wkly comp to win fa cup fina...</td>\n",
       "      <td>28</td>\n",
       "      <td>free entry 2 wkly comp win fa cup final tkts 2...</td>\n",
       "    </tr>\n",
       "    <tr>\n",
       "      <th>3</th>\n",
       "      <td>ham</td>\n",
       "      <td>u dun say so early hor... u c already then say...</td>\n",
       "      <td>11</td>\n",
       "      <td>u dun say early hor... u c already say...</td>\n",
       "    </tr>\n",
       "    <tr>\n",
       "      <th>4</th>\n",
       "      <td>ham</td>\n",
       "      <td>nah i don't think he goes to usf, he lives aro...</td>\n",
       "      <td>13</td>\n",
       "      <td>nah think goes usf, lives around though</td>\n",
       "    </tr>\n",
       "  </tbody>\n",
       "</table>\n",
       "</div>"
      ],
      "text/plain": [
       "  sms_label                                           sms_text  sms_length  \\\n",
       "0       ham  go until jurong point, crazy.. available only ...          20   \n",
       "1       ham                      ok lar... joking wif u oni...           6   \n",
       "2      spam  free entry in 2 a wkly comp to win fa cup fina...          28   \n",
       "3       ham  u dun say so early hor... u c already then say...          11   \n",
       "4       ham  nah i don't think he goes to usf, he lives aro...          13   \n",
       "\n",
       "                                        no_stopwords  \n",
       "0  go jurong point, crazy.. available bugis n gre...  \n",
       "1                      ok lar... joking wif u oni...  \n",
       "2  free entry 2 wkly comp win fa cup final tkts 2...  \n",
       "3          u dun say early hor... u c already say...  \n",
       "4            nah think goes usf, lives around though  "
      ]
     },
     "execution_count": 10,
     "metadata": {},
     "output_type": "execute_result"
    }
   ],
   "source": [
    "df['no_stopwords'] = df['sms_text'].apply(lambda x: ' '.join([word for word in x.split() if word not in (stopWords)]))\n",
    "df.head()"
   ]
  },
  {
   "cell_type": "code",
   "execution_count": 11,
   "id": "5f7bd5c7",
   "metadata": {},
   "outputs": [
    {
     "data": {
      "text/html": [
       "<div>\n",
       "<style scoped>\n",
       "    .dataframe tbody tr th:only-of-type {\n",
       "        vertical-align: middle;\n",
       "    }\n",
       "\n",
       "    .dataframe tbody tr th {\n",
       "        vertical-align: top;\n",
       "    }\n",
       "\n",
       "    .dataframe thead th {\n",
       "        text-align: right;\n",
       "    }\n",
       "</style>\n",
       "<table border=\"1\" class=\"dataframe\">\n",
       "  <thead>\n",
       "    <tr style=\"text-align: right;\">\n",
       "      <th></th>\n",
       "      <th>sms_label</th>\n",
       "      <th>sms_text</th>\n",
       "      <th>sms_length</th>\n",
       "      <th>no_stopwords</th>\n",
       "      <th>no_punctuation</th>\n",
       "    </tr>\n",
       "  </thead>\n",
       "  <tbody>\n",
       "    <tr>\n",
       "      <th>0</th>\n",
       "      <td>ham</td>\n",
       "      <td>go until jurong point, crazy.. available only ...</td>\n",
       "      <td>20</td>\n",
       "      <td>go jurong point, crazy.. available bugis n gre...</td>\n",
       "      <td>go jurong point crazy available bugis n great ...</td>\n",
       "    </tr>\n",
       "    <tr>\n",
       "      <th>1</th>\n",
       "      <td>ham</td>\n",
       "      <td>ok lar... joking wif u oni...</td>\n",
       "      <td>6</td>\n",
       "      <td>ok lar... joking wif u oni...</td>\n",
       "      <td>ok lar joking wif u oni</td>\n",
       "    </tr>\n",
       "    <tr>\n",
       "      <th>2</th>\n",
       "      <td>spam</td>\n",
       "      <td>free entry in 2 a wkly comp to win fa cup fina...</td>\n",
       "      <td>28</td>\n",
       "      <td>free entry 2 wkly comp win fa cup final tkts 2...</td>\n",
       "      <td>free entry 2 wkly comp win fa cup final tkts 2...</td>\n",
       "    </tr>\n",
       "  </tbody>\n",
       "</table>\n",
       "</div>"
      ],
      "text/plain": [
       "  sms_label                                           sms_text  sms_length  \\\n",
       "0       ham  go until jurong point, crazy.. available only ...          20   \n",
       "1       ham                      ok lar... joking wif u oni...           6   \n",
       "2      spam  free entry in 2 a wkly comp to win fa cup fina...          28   \n",
       "\n",
       "                                        no_stopwords  \\\n",
       "0  go jurong point, crazy.. available bugis n gre...   \n",
       "1                      ok lar... joking wif u oni...   \n",
       "2  free entry 2 wkly comp win fa cup final tkts 2...   \n",
       "\n",
       "                                      no_punctuation  \n",
       "0  go jurong point crazy available bugis n great ...  \n",
       "1                            ok lar joking wif u oni  \n",
       "2  free entry 2 wkly comp win fa cup final tkts 2...  "
      ]
     },
     "execution_count": 11,
     "metadata": {},
     "output_type": "execute_result"
    }
   ],
   "source": [
    "# A function for removing the punctuation\n",
    "def remove_punctuations(st):\n",
    "    for punctuation in string.punctuation:\n",
    "        st = st.replace(punctuation, '')\n",
    "    return st\n",
    "# Apply to the DF series\n",
    "df['no_punctuation'] = df['no_stopwords'].apply(remove_punctuations)\n",
    "df.head(3)"
   ]
  },
  {
   "attachments": {},
   "cell_type": "markdown",
   "id": "f83e7568",
   "metadata": {},
   "source": [
    "**<font color=\"#FF0000\" size=3> We will create a vector of all the unique words in the dataset </font>**"
   ]
  },
  {
   "cell_type": "code",
   "execution_count": 12,
   "id": "956248b1",
   "metadata": {},
   "outputs": [
    {
     "data": {
      "text/html": [
       "<div>\n",
       "<style scoped>\n",
       "    .dataframe tbody tr th:only-of-type {\n",
       "        vertical-align: middle;\n",
       "    }\n",
       "\n",
       "    .dataframe tbody tr th {\n",
       "        vertical-align: top;\n",
       "    }\n",
       "\n",
       "    .dataframe thead th {\n",
       "        text-align: right;\n",
       "    }\n",
       "</style>\n",
       "<table border=\"1\" class=\"dataframe\">\n",
       "  <thead>\n",
       "    <tr style=\"text-align: right;\">\n",
       "      <th></th>\n",
       "      <th>sms_label</th>\n",
       "      <th>sms_text</th>\n",
       "      <th>sms_length</th>\n",
       "      <th>no_stopwords</th>\n",
       "      <th>no_punctuation</th>\n",
       "      <th>sms_words</th>\n",
       "    </tr>\n",
       "  </thead>\n",
       "  <tbody>\n",
       "    <tr>\n",
       "      <th>0</th>\n",
       "      <td>ham</td>\n",
       "      <td>go until jurong point, crazy.. available only ...</td>\n",
       "      <td>20</td>\n",
       "      <td>go jurong point, crazy.. available bugis n gre...</td>\n",
       "      <td>go jurong point crazy available bugis n great ...</td>\n",
       "      <td>[go, jurong, point, crazy, available, bugis, n...</td>\n",
       "    </tr>\n",
       "    <tr>\n",
       "      <th>1</th>\n",
       "      <td>ham</td>\n",
       "      <td>ok lar... joking wif u oni...</td>\n",
       "      <td>6</td>\n",
       "      <td>ok lar... joking wif u oni...</td>\n",
       "      <td>ok lar joking wif u oni</td>\n",
       "      <td>[ok, lar, joking, wif, u, oni]</td>\n",
       "    </tr>\n",
       "    <tr>\n",
       "      <th>2</th>\n",
       "      <td>spam</td>\n",
       "      <td>free entry in 2 a wkly comp to win fa cup fina...</td>\n",
       "      <td>28</td>\n",
       "      <td>free entry 2 wkly comp win fa cup final tkts 2...</td>\n",
       "      <td>free entry 2 wkly comp win fa cup final tkts 2...</td>\n",
       "      <td>[free, entry, 2, wkly, comp, win, fa, cup, fin...</td>\n",
       "    </tr>\n",
       "  </tbody>\n",
       "</table>\n",
       "</div>"
      ],
      "text/plain": [
       "  sms_label                                           sms_text  sms_length  \\\n",
       "0       ham  go until jurong point, crazy.. available only ...          20   \n",
       "1       ham                      ok lar... joking wif u oni...           6   \n",
       "2      spam  free entry in 2 a wkly comp to win fa cup fina...          28   \n",
       "\n",
       "                                        no_stopwords  \\\n",
       "0  go jurong point, crazy.. available bugis n gre...   \n",
       "1                      ok lar... joking wif u oni...   \n",
       "2  free entry 2 wkly comp win fa cup final tkts 2...   \n",
       "\n",
       "                                      no_punctuation  \\\n",
       "0  go jurong point crazy available bugis n great ...   \n",
       "1                            ok lar joking wif u oni   \n",
       "2  free entry 2 wkly comp win fa cup final tkts 2...   \n",
       "\n",
       "                                           sms_words  \n",
       "0  [go, jurong, point, crazy, available, bugis, n...  \n",
       "1                     [ok, lar, joking, wif, u, oni]  \n",
       "2  [free, entry, 2, wkly, comp, win, fa, cup, fin...  "
      ]
     },
     "execution_count": 12,
     "metadata": {},
     "output_type": "execute_result"
    }
   ],
   "source": [
    "df['sms_words'] = df[\"no_punctuation\"].apply(lambda x: str(x).split(' '))\n",
    "df.head(3)"
   ]
  },
  {
   "cell_type": "code",
   "execution_count": 13,
   "id": "9cedb43a",
   "metadata": {},
   "outputs": [],
   "source": [
    "bag_of_words = set(df['sms_words'].sum())\n"
   ]
  },
  {
   "cell_type": "code",
   "execution_count": 14,
   "id": "6e852f89",
   "metadata": {},
   "outputs": [
    {
     "name": "stdout",
     "output_type": "stream",
     "text": [
      "9625\n"
     ]
    }
   ],
   "source": [
    "print(len(bag_of_words))"
   ]
  },
  {
   "attachments": {},
   "cell_type": "markdown",
   "id": "5c5e33bc",
   "metadata": {},
   "source": [
    "**<font color=#ff00000 size=4>To create features from the unique words TF-IDF Vectorizer from scikit-learn library will be used </font>**"
   ]
  },
  {
   "attachments": {},
   "cell_type": "markdown",
   "id": "5fe4a093",
   "metadata": {},
   "source": [
    "**<font size=3>TF-IDF is an abbreviation for Term Frequency Inverse Document Frequency. This is very common algorithm to transform text into a meaningful representation of numbers which is used to fit machine algorithm for prediction.</font>**"
   ]
  },
  {
   "cell_type": "code",
   "execution_count": 15,
   "id": "d95c36f1",
   "metadata": {},
   "outputs": [],
   "source": [
    "tfidf=TfidfVectorizer()\n",
    "features=tfidf.fit_transform(df['no_punctuation']).todense()"
   ]
  },
  {
   "cell_type": "code",
   "execution_count": 16,
   "id": "b14afafe",
   "metadata": {},
   "outputs": [
    {
     "data": {
      "text/plain": [
       "(5572, 9511)"
      ]
     },
     "execution_count": 16,
     "metadata": {},
     "output_type": "execute_result"
    }
   ],
   "source": [
    "vectorDF=pd.DataFrame(features,columns=tfidf.get_feature_names_out())\n",
    "vectorDF.shape"
   ]
  },
  {
   "cell_type": "code",
   "execution_count": 17,
   "id": "84edf2f1",
   "metadata": {},
   "outputs": [],
   "source": [
    "vectorDF['sms_length'] = df['sms_length']  \n",
    "encoder=LabelEncoder()\n",
    "vectorDF['sms_label']=encoder.fit_transform(df['sms_label'])\n"
   ]
  },
  {
   "cell_type": "code",
   "execution_count": 18,
   "id": "1380a2bc",
   "metadata": {},
   "outputs": [
    {
     "data": {
      "text/html": [
       "<div>\n",
       "<style scoped>\n",
       "    .dataframe tbody tr th:only-of-type {\n",
       "        vertical-align: middle;\n",
       "    }\n",
       "\n",
       "    .dataframe tbody tr th {\n",
       "        vertical-align: top;\n",
       "    }\n",
       "\n",
       "    .dataframe thead th {\n",
       "        text-align: right;\n",
       "    }\n",
       "</style>\n",
       "<table border=\"1\" class=\"dataframe\">\n",
       "  <thead>\n",
       "    <tr style=\"text-align: right;\">\n",
       "      <th></th>\n",
       "      <th>008704050406</th>\n",
       "      <th>0089my</th>\n",
       "      <th>0121</th>\n",
       "      <th>01223585236</th>\n",
       "      <th>01223585334</th>\n",
       "      <th>0125698789</th>\n",
       "      <th>02</th>\n",
       "      <th>020603</th>\n",
       "      <th>0207</th>\n",
       "      <th>02070836089</th>\n",
       "      <th>...</th>\n",
       "      <th>zindgi</th>\n",
       "      <th>zoe</th>\n",
       "      <th>zogtorius</th>\n",
       "      <th>zoom</th>\n",
       "      <th>zouk</th>\n",
       "      <th>zyada</th>\n",
       "      <th>üll</th>\n",
       "      <th>〨ud</th>\n",
       "      <th>sms_length</th>\n",
       "      <th>sms_label</th>\n",
       "    </tr>\n",
       "  </thead>\n",
       "  <tbody>\n",
       "    <tr>\n",
       "      <th>0</th>\n",
       "      <td>0.0</td>\n",
       "      <td>0.0</td>\n",
       "      <td>0.0</td>\n",
       "      <td>0.0</td>\n",
       "      <td>0.0</td>\n",
       "      <td>0.0</td>\n",
       "      <td>0.0</td>\n",
       "      <td>0.0</td>\n",
       "      <td>0.0</td>\n",
       "      <td>0.0</td>\n",
       "      <td>...</td>\n",
       "      <td>0.0</td>\n",
       "      <td>0.0</td>\n",
       "      <td>0.0</td>\n",
       "      <td>0.0</td>\n",
       "      <td>0.0</td>\n",
       "      <td>0.0</td>\n",
       "      <td>0.0</td>\n",
       "      <td>0.0</td>\n",
       "      <td>20</td>\n",
       "      <td>0</td>\n",
       "    </tr>\n",
       "    <tr>\n",
       "      <th>1</th>\n",
       "      <td>0.0</td>\n",
       "      <td>0.0</td>\n",
       "      <td>0.0</td>\n",
       "      <td>0.0</td>\n",
       "      <td>0.0</td>\n",
       "      <td>0.0</td>\n",
       "      <td>0.0</td>\n",
       "      <td>0.0</td>\n",
       "      <td>0.0</td>\n",
       "      <td>0.0</td>\n",
       "      <td>...</td>\n",
       "      <td>0.0</td>\n",
       "      <td>0.0</td>\n",
       "      <td>0.0</td>\n",
       "      <td>0.0</td>\n",
       "      <td>0.0</td>\n",
       "      <td>0.0</td>\n",
       "      <td>0.0</td>\n",
       "      <td>0.0</td>\n",
       "      <td>6</td>\n",
       "      <td>0</td>\n",
       "    </tr>\n",
       "    <tr>\n",
       "      <th>2</th>\n",
       "      <td>0.0</td>\n",
       "      <td>0.0</td>\n",
       "      <td>0.0</td>\n",
       "      <td>0.0</td>\n",
       "      <td>0.0</td>\n",
       "      <td>0.0</td>\n",
       "      <td>0.0</td>\n",
       "      <td>0.0</td>\n",
       "      <td>0.0</td>\n",
       "      <td>0.0</td>\n",
       "      <td>...</td>\n",
       "      <td>0.0</td>\n",
       "      <td>0.0</td>\n",
       "      <td>0.0</td>\n",
       "      <td>0.0</td>\n",
       "      <td>0.0</td>\n",
       "      <td>0.0</td>\n",
       "      <td>0.0</td>\n",
       "      <td>0.0</td>\n",
       "      <td>28</td>\n",
       "      <td>1</td>\n",
       "    </tr>\n",
       "  </tbody>\n",
       "</table>\n",
       "<p>3 rows × 9513 columns</p>\n",
       "</div>"
      ],
      "text/plain": [
       "   008704050406  0089my  0121  01223585236  01223585334  0125698789   02  \\\n",
       "0           0.0     0.0   0.0          0.0          0.0         0.0  0.0   \n",
       "1           0.0     0.0   0.0          0.0          0.0         0.0  0.0   \n",
       "2           0.0     0.0   0.0          0.0          0.0         0.0  0.0   \n",
       "\n",
       "   020603  0207  02070836089  ...  zindgi  zoe  zogtorius  zoom  zouk  zyada  \\\n",
       "0     0.0   0.0          0.0  ...     0.0  0.0        0.0   0.0   0.0    0.0   \n",
       "1     0.0   0.0          0.0  ...     0.0  0.0        0.0   0.0   0.0    0.0   \n",
       "2     0.0   0.0          0.0  ...     0.0  0.0        0.0   0.0   0.0    0.0   \n",
       "\n",
       "   üll  〨ud  sms_length  sms_label  \n",
       "0  0.0  0.0          20          0  \n",
       "1  0.0  0.0           6          0  \n",
       "2  0.0  0.0          28          1  \n",
       "\n",
       "[3 rows x 9513 columns]"
      ]
     },
     "execution_count": 18,
     "metadata": {},
     "output_type": "execute_result"
    }
   ],
   "source": [
    "vectorDF.head(3)"
   ]
  },
  {
   "attachments": {},
   "cell_type": "markdown",
   "id": "2048f225",
   "metadata": {},
   "source": [
    "## Building Classification Models"
   ]
  },
  {
   "attachments": {},
   "cell_type": "markdown",
   "id": "5d12b0c7",
   "metadata": {},
   "source": [
    "**<font color=#FF0000 size=3> Creating a train and test sets </font>**"
   ]
  },
  {
   "cell_type": "code",
   "execution_count": 19,
   "id": "a9034ffd",
   "metadata": {},
   "outputs": [],
   "source": [
    "labelDF = vectorDF['sms_label']\n",
    "featuresDF = vectorDF.drop('sms_label',axis=1)\n",
    "trainX, testX, trainY, testY = train_test_split(featuresDF, labelDF,test_size=0.25, random_state=42)"
   ]
  },
  {
   "attachments": {},
   "cell_type": "markdown",
   "id": "13d6a1f3",
   "metadata": {},
   "source": [
    "### 1 - Decision Trees"
   ]
  },
  {
   "attachments": {},
   "cell_type": "markdown",
   "id": "daeb6e6d",
   "metadata": {},
   "source": [
    "**<font color=#ff0000 size = 3> First we will choose random hyper-parameters, after that we will use GridSearch to find the optimum hyper-parameters. </font>**"
   ]
  },
  {
   "cell_type": "code",
   "execution_count": 20,
   "id": "1ac85c7c",
   "metadata": {},
   "outputs": [
    {
     "data": {
      "text/plain": [
       "DecisionTreeClassifier(criterion='entropy', max_depth=10)"
      ]
     },
     "execution_count": 20,
     "metadata": {},
     "output_type": "execute_result"
    }
   ],
   "source": [
    "tree_clf = DecisionTreeClassifier(criterion=\"entropy\", max_depth=10)\n",
    "tree_clf.fit(trainX, trainY)"
   ]
  },
  {
   "cell_type": "code",
   "execution_count": 21,
   "id": "12278ffe",
   "metadata": {},
   "outputs": [],
   "source": [
    "tree_predY = tree_clf.predict(testX)\n",
    "confusion_matrix = confusion_matrix(testY,tree_predY)"
   ]
  },
  {
   "cell_type": "code",
   "execution_count": 22,
   "id": "ccbde732",
   "metadata": {},
   "outputs": [
    {
     "data": {
      "text/plain": [
       "array([[1196,   11],\n",
       "       [  40,  146]], dtype=int64)"
      ]
     },
     "execution_count": 22,
     "metadata": {},
     "output_type": "execute_result"
    }
   ],
   "source": [
    "confusion_matrix\n"
   ]
  },
  {
   "cell_type": "code",
   "execution_count": 23,
   "id": "4a67e7b9",
   "metadata": {},
   "outputs": [
    {
     "name": "stdout",
     "output_type": "stream",
     "text": [
      "              precision    recall  f1-score   support\n",
      "\n",
      "           0       0.97      0.99      0.98      1207\n",
      "           1       0.93      0.78      0.85       186\n",
      "\n",
      "    accuracy                           0.96      1393\n",
      "   macro avg       0.95      0.89      0.92      1393\n",
      "weighted avg       0.96      0.96      0.96      1393\n",
      "\n"
     ]
    }
   ],
   "source": [
    "clf_report = classification_report(testY,tree_predY)\n",
    "print(clf_report)"
   ]
  },
  {
   "attachments": {},
   "cell_type": "markdown",
   "id": "c767b3e2",
   "metadata": {},
   "source": [
    "#### Tuning hyper-parameters using GridSearch"
   ]
  },
  {
   "cell_type": "code",
   "execution_count": 22,
   "id": "7bbe9da6",
   "metadata": {},
   "outputs": [
    {
     "name": "stdout",
     "output_type": "stream",
     "text": [
      "Fitting 5 folds for each of 8 candidates, totalling 40 fits\n",
      "[CV] END ........................criterion=gini, max_depth=5; total time=   1.6s\n",
      "[CV] END ........................criterion=gini, max_depth=5; total time=   1.4s\n",
      "[CV] END ........................criterion=gini, max_depth=5; total time=   1.4s\n",
      "[CV] END ........................criterion=gini, max_depth=5; total time=   1.5s\n",
      "[CV] END ........................criterion=gini, max_depth=5; total time=   1.4s\n",
      "[CV] END .......................criterion=gini, max_depth=10; total time=   1.8s\n",
      "[CV] END .......................criterion=gini, max_depth=10; total time=   1.7s\n",
      "[CV] END .......................criterion=gini, max_depth=10; total time=   1.7s\n",
      "[CV] END .......................criterion=gini, max_depth=10; total time=   1.8s\n",
      "[CV] END .......................criterion=gini, max_depth=10; total time=   1.7s\n",
      "[CV] END .......................criterion=gini, max_depth=15; total time=   2.3s\n",
      "[CV] END .......................criterion=gini, max_depth=15; total time=   2.1s\n",
      "[CV] END .......................criterion=gini, max_depth=15; total time=   2.0s\n",
      "[CV] END .......................criterion=gini, max_depth=15; total time=   2.2s\n",
      "[CV] END .......................criterion=gini, max_depth=15; total time=   1.9s\n",
      "[CV] END .......................criterion=gini, max_depth=20; total time=   2.6s\n",
      "[CV] END .......................criterion=gini, max_depth=20; total time=   2.2s\n",
      "[CV] END .......................criterion=gini, max_depth=20; total time=   2.2s\n",
      "[CV] END .......................criterion=gini, max_depth=20; total time=   2.5s\n",
      "[CV] END .......................criterion=gini, max_depth=20; total time=   2.2s\n",
      "[CV] END .....................criterion=entropy, max_depth=5; total time=   1.4s\n",
      "[CV] END .....................criterion=entropy, max_depth=5; total time=   1.4s\n",
      "[CV] END .....................criterion=entropy, max_depth=5; total time=   1.4s\n",
      "[CV] END .....................criterion=entropy, max_depth=5; total time=   1.4s\n",
      "[CV] END .....................criterion=entropy, max_depth=5; total time=   1.6s\n",
      "[CV] END ....................criterion=entropy, max_depth=10; total time=   1.7s\n",
      "[CV] END ....................criterion=entropy, max_depth=10; total time=   1.7s\n",
      "[CV] END ....................criterion=entropy, max_depth=10; total time=   1.7s\n",
      "[CV] END ....................criterion=entropy, max_depth=10; total time=   1.7s\n",
      "[CV] END ....................criterion=entropy, max_depth=10; total time=   1.7s\n",
      "[CV] END ....................criterion=entropy, max_depth=15; total time=   2.1s\n",
      "[CV] END ....................criterion=entropy, max_depth=15; total time=   1.9s\n",
      "[CV] END ....................criterion=entropy, max_depth=15; total time=   2.0s\n",
      "[CV] END ....................criterion=entropy, max_depth=15; total time=   2.1s\n",
      "[CV] END ....................criterion=entropy, max_depth=15; total time=   1.9s\n",
      "[CV] END ....................criterion=entropy, max_depth=20; total time=   2.2s\n",
      "[CV] END ....................criterion=entropy, max_depth=20; total time=   2.2s\n",
      "[CV] END ....................criterion=entropy, max_depth=20; total time=   2.3s\n",
      "[CV] END ....................criterion=entropy, max_depth=20; total time=   2.2s\n",
      "[CV] END ....................criterion=entropy, max_depth=20; total time=   2.2s\n",
      "The best parameters are: \n",
      "\n",
      "{'criterion': 'gini', 'max_depth': 20}\n"
     ]
    }
   ],
   "source": [
    "tree_parameters = [{'criterion': ['gini', 'entropy'], \n",
    "                     'max_depth': [5,10,15,20]}]\n",
    "\n",
    "\n",
    "tree_clf2 = GridSearchCV(DecisionTreeClassifier(), tree_parameters,verbose=2)\n",
    "tree_clf2.fit(trainX, trainY)\n",
    "    \n",
    "print(\"The best parameters are: \\n\")\n",
    "print(tree_clf2.best_params_)"
   ]
  },
  {
   "cell_type": "code",
   "execution_count": 24,
   "id": "b1cb2529",
   "metadata": {},
   "outputs": [],
   "source": [
    "tree_clf = DecisionTreeClassifier(criterion=\"gini\", max_depth=20)\n",
    "tree_clf.fit(trainX, trainY)\n",
    "tree_predY2 = tree_clf.predict(testX)"
   ]
  },
  {
   "cell_type": "code",
   "execution_count": 25,
   "id": "c093628e",
   "metadata": {},
   "outputs": [
    {
     "name": "stdout",
     "output_type": "stream",
     "text": [
      "              precision    recall  f1-score   support\n",
      "\n",
      "           0       0.97      0.99      0.98      1207\n",
      "           1       0.93      0.81      0.87       186\n",
      "\n",
      "    accuracy                           0.97      1393\n",
      "   macro avg       0.95      0.90      0.92      1393\n",
      "weighted avg       0.97      0.97      0.97      1393\n",
      "\n"
     ]
    }
   ],
   "source": [
    "clf_report = classification_report(testY,tree_predY2)\n",
    "print(clf_report)"
   ]
  },
  {
   "cell_type": "code",
   "execution_count": 26,
   "id": "8b4b75bb",
   "metadata": {},
   "outputs": [
    {
     "data": {
      "text/plain": [
       "0.8812037309244461"
      ]
     },
     "execution_count": 26,
     "metadata": {},
     "output_type": "execute_result"
    }
   ],
   "source": [
    "tree_probs = tree_clf.predict_proba(testX)\n",
    "tree_probs = tree_probs[:, 1]\n",
    "tree_auc = roc_auc_score(testY, tree_probs)\n",
    "tree_fpr, tree_tpr, _ = roc_curve(testY, tree_probs)\n",
    "tree_auc"
   ]
  },
  {
   "cell_type": "code",
   "execution_count": 27,
   "id": "56d721de",
   "metadata": {},
   "outputs": [
    {
     "ename": "TypeError",
     "evalue": "'numpy.ndarray' object is not callable",
     "output_type": "error",
     "traceback": [
      "\u001b[1;31m---------------------------------------------------------------------------\u001b[0m",
      "\u001b[1;31mTypeError\u001b[0m                                 Traceback (most recent call last)",
      "\u001b[1;32m~\\AppData\\Local\\Temp/ipykernel_12328/3317056206.py\u001b[0m in \u001b[0;36m<module>\u001b[1;34m\u001b[0m\n\u001b[1;32m----> 1\u001b[1;33m \u001b[0mcm\u001b[0m \u001b[1;33m=\u001b[0m \u001b[0mconfusion_matrix\u001b[0m\u001b[1;33m(\u001b[0m\u001b[0my_true\u001b[0m\u001b[1;33m=\u001b[0m\u001b[0mtestY\u001b[0m\u001b[1;33m,\u001b[0m \u001b[0my_pred\u001b[0m\u001b[1;33m=\u001b[0m \u001b[0mtree_predY2\u001b[0m\u001b[1;33m)\u001b[0m\u001b[1;33m\u001b[0m\u001b[1;33m\u001b[0m\u001b[0m\n\u001b[0m\u001b[0;32m      2\u001b[0m \u001b[1;33m\u001b[0m\u001b[0m\n\u001b[0;32m      3\u001b[0m \u001b[0max\u001b[0m\u001b[1;33m=\u001b[0m \u001b[0mplt\u001b[0m\u001b[1;33m.\u001b[0m\u001b[0msubplot\u001b[0m\u001b[1;33m(\u001b[0m\u001b[1;33m)\u001b[0m\u001b[1;33m\u001b[0m\u001b[1;33m\u001b[0m\u001b[0m\n\u001b[0;32m      4\u001b[0m \u001b[0msb\u001b[0m\u001b[1;33m.\u001b[0m\u001b[0mheatmap\u001b[0m\u001b[1;33m(\u001b[0m\u001b[0mcm\u001b[0m\u001b[1;33m,\u001b[0m \u001b[0mannot\u001b[0m\u001b[1;33m=\u001b[0m\u001b[1;32mTrue\u001b[0m\u001b[1;33m,\u001b[0m \u001b[0max\u001b[0m \u001b[1;33m=\u001b[0m \u001b[0max\u001b[0m\u001b[1;33m,\u001b[0m \u001b[0mfmt\u001b[0m \u001b[1;33m=\u001b[0m \u001b[1;34m'g'\u001b[0m\u001b[1;33m,\u001b[0m \u001b[0mcmap\u001b[0m\u001b[1;33m=\u001b[0m\u001b[1;34m'PuRd'\u001b[0m\u001b[1;33m)\u001b[0m\u001b[1;33m;\u001b[0m\u001b[1;33m\u001b[0m\u001b[1;33m\u001b[0m\u001b[0m\n\u001b[0;32m      5\u001b[0m \u001b[1;33m\u001b[0m\u001b[0m\n",
      "\u001b[1;31mTypeError\u001b[0m: 'numpy.ndarray' object is not callable"
     ]
    }
   ],
   "source": [
    "cm = confusion_matrix(y_true=testY, y_pred= tree_predY2)\n",
    "\n",
    "ax= plt.subplot()\n",
    "sb.heatmap(cm, annot=True, ax = ax, fmt = 'g', cmap='PuRd'); \n",
    "\n",
    "ax.set_xlabel('Predicted', fontsize=20)\n",
    "ax.xaxis.set_ticklabels(['ham', 'spam'], fontsize = 15)\n",
    "\n",
    "ax.set_ylabel('Actual', fontsize=20)\n",
    "ax.yaxis.set_ticklabels(['ham', 'spam'], fontsize = 15)\n"
   ]
  },
  {
   "attachments": {},
   "cell_type": "markdown",
   "id": "299ca0d9",
   "metadata": {},
   "source": [
    "### 2 -  Naive Bayes\n"
   ]
  },
  {
   "attachments": {},
   "cell_type": "markdown",
   "id": "71372781",
   "metadata": {},
   "source": [
    "**<font color=#ff0000 size = 3> After searching which Naive Bayes algorithm is suited for this task, I found that multinomial Naive Bayes was the most appropriate one. </font>**"
   ]
  },
  {
   "cell_type": "code",
   "execution_count": 28,
   "id": "02bf910c",
   "metadata": {},
   "outputs": [
    {
     "data": {
      "text/plain": [
       "MultinomialNB(alpha=1)"
      ]
     },
     "execution_count": 28,
     "metadata": {},
     "output_type": "execute_result"
    }
   ],
   "source": [
    "# using random alpha at first \n",
    "nb_clf = MultinomialNB(alpha=1)\n",
    "nb_clf.fit(trainX, trainY)\n"
   ]
  },
  {
   "cell_type": "code",
   "execution_count": 29,
   "id": "25668344",
   "metadata": {},
   "outputs": [],
   "source": [
    "nb_predY = nb_clf.predict(testX)\n"
   ]
  },
  {
   "cell_type": "code",
   "execution_count": 30,
   "id": "1abfed5f",
   "metadata": {},
   "outputs": [
    {
     "name": "stdout",
     "output_type": "stream",
     "text": [
      "              precision    recall  f1-score   support\n",
      "\n",
      "           0       0.87      1.00      0.93      1207\n",
      "           1       1.00      0.03      0.05       186\n",
      "\n",
      "    accuracy                           0.87      1393\n",
      "   macro avg       0.93      0.51      0.49      1393\n",
      "weighted avg       0.89      0.87      0.81      1393\n",
      "\n"
     ]
    }
   ],
   "source": [
    "nb_clf_report = classification_report(testY,nb_predY)\n",
    "print(nb_clf_report)"
   ]
  },
  {
   "attachments": {},
   "cell_type": "markdown",
   "id": "7a5dfcaa",
   "metadata": {},
   "source": [
    "#### Tuning hyper-parameters using GridSearch"
   ]
  },
  {
   "cell_type": "code",
   "execution_count": 28,
   "id": "b0510ad1",
   "metadata": {},
   "outputs": [
    {
     "name": "stdout",
     "output_type": "stream",
     "text": [
      "Fitting 5 folds for each of 8 candidates, totalling 40 fits\n",
      "[CV] END ........................alpha=0.001, fit_prior=True; total time=   0.9s\n",
      "[CV] END ........................alpha=0.001, fit_prior=True; total time=   1.0s\n",
      "[CV] END ........................alpha=0.001, fit_prior=True; total time=   1.0s\n",
      "[CV] END ........................alpha=0.001, fit_prior=True; total time=   1.0s\n",
      "[CV] END ........................alpha=0.001, fit_prior=True; total time=   1.0s\n",
      "[CV] END .......................alpha=0.001, fit_prior=False; total time=   1.0s\n",
      "[CV] END .......................alpha=0.001, fit_prior=False; total time=   1.1s\n",
      "[CV] END .......................alpha=0.001, fit_prior=False; total time=   1.0s\n",
      "[CV] END .......................alpha=0.001, fit_prior=False; total time=   0.9s\n",
      "[CV] END .......................alpha=0.001, fit_prior=False; total time=   1.1s\n",
      "[CV] END .........................alpha=0.01, fit_prior=True; total time=   1.1s\n",
      "[CV] END .........................alpha=0.01, fit_prior=True; total time=   1.0s\n",
      "[CV] END .........................alpha=0.01, fit_prior=True; total time=   1.0s\n",
      "[CV] END .........................alpha=0.01, fit_prior=True; total time=   0.9s\n",
      "[CV] END .........................alpha=0.01, fit_prior=True; total time=   1.0s\n",
      "[CV] END ........................alpha=0.01, fit_prior=False; total time=   0.9s\n",
      "[CV] END ........................alpha=0.01, fit_prior=False; total time=   0.9s\n",
      "[CV] END ........................alpha=0.01, fit_prior=False; total time=   1.0s\n",
      "[CV] END ........................alpha=0.01, fit_prior=False; total time=   0.9s\n",
      "[CV] END ........................alpha=0.01, fit_prior=False; total time=   1.0s\n",
      "[CV] END ..........................alpha=0.1, fit_prior=True; total time=   0.9s\n",
      "[CV] END ..........................alpha=0.1, fit_prior=True; total time=   1.0s\n",
      "[CV] END ..........................alpha=0.1, fit_prior=True; total time=   0.9s\n",
      "[CV] END ..........................alpha=0.1, fit_prior=True; total time=   1.0s\n",
      "[CV] END ..........................alpha=0.1, fit_prior=True; total time=   1.0s\n",
      "[CV] END .........................alpha=0.1, fit_prior=False; total time=   0.9s\n",
      "[CV] END .........................alpha=0.1, fit_prior=False; total time=   1.0s\n",
      "[CV] END .........................alpha=0.1, fit_prior=False; total time=   0.9s\n",
      "[CV] END .........................alpha=0.1, fit_prior=False; total time=   1.0s\n",
      "[CV] END .........................alpha=0.1, fit_prior=False; total time=   1.0s\n",
      "[CV] END ............................alpha=1, fit_prior=True; total time=   1.0s\n",
      "[CV] END ............................alpha=1, fit_prior=True; total time=   1.0s\n",
      "[CV] END ............................alpha=1, fit_prior=True; total time=   1.4s\n",
      "[CV] END ............................alpha=1, fit_prior=True; total time=   1.0s\n",
      "[CV] END ............................alpha=1, fit_prior=True; total time=   1.0s\n",
      "[CV] END ...........................alpha=1, fit_prior=False; total time=   1.0s\n",
      "[CV] END ...........................alpha=1, fit_prior=False; total time=   0.9s\n",
      "[CV] END ...........................alpha=1, fit_prior=False; total time=   1.0s\n",
      "[CV] END ...........................alpha=1, fit_prior=False; total time=   0.9s\n",
      "[CV] END ...........................alpha=1, fit_prior=False; total time=   1.0s\n",
      "Best Score:  0.9770286221814743\n",
      "Best Params:  {'alpha': 0.1, 'fit_prior': True}\n"
     ]
    }
   ],
   "source": [
    "nb_params = {\n",
    "  'alpha': [0.001, 0.01, 0.1,1],\n",
    "  'fit_prior': [True, False],  \n",
    "}\n",
    "\n",
    "nb_clf2 = GridSearchCV(MultinomialNB(), nb_params, verbose=2)\n",
    "nb_clf2.fit(trainX, trainY)\n",
    "    \n",
    "print(\"Best Score: \", nb_clf2.best_score_)\n",
    "print(\"Best Params: \", nb_clf2.best_params_)"
   ]
  },
  {
   "cell_type": "code",
   "execution_count": 31,
   "id": "9bfc9868",
   "metadata": {},
   "outputs": [
    {
     "data": {
      "text/plain": [
       "MultinomialNB(alpha=0.1)"
      ]
     },
     "execution_count": 31,
     "metadata": {},
     "output_type": "execute_result"
    }
   ],
   "source": [
    "# using best parameters\n",
    "nb_clf = MultinomialNB(alpha=0.1, fit_prior = True)\n",
    "nb_clf.fit(trainX, trainY)"
   ]
  },
  {
   "cell_type": "code",
   "execution_count": 32,
   "id": "73daf6e1",
   "metadata": {},
   "outputs": [
    {
     "name": "stdout",
     "output_type": "stream",
     "text": [
      "              precision    recall  f1-score   support\n",
      "\n",
      "           0       0.99      0.99      0.99      1207\n",
      "           1       0.92      0.93      0.92       186\n",
      "\n",
      "    accuracy                           0.98      1393\n",
      "   macro avg       0.95      0.96      0.96      1393\n",
      "weighted avg       0.98      0.98      0.98      1393\n",
      "\n"
     ]
    }
   ],
   "source": [
    "nb_predY2 = nb_clf.predict(testX)\n",
    "nb_clf_report = classification_report(testY,nb_predY2)\n",
    "print(nb_clf_report)"
   ]
  },
  {
   "cell_type": "code",
   "execution_count": 33,
   "id": "749a2905",
   "metadata": {},
   "outputs": [
    {
     "ename": "TypeError",
     "evalue": "'numpy.ndarray' object is not callable",
     "output_type": "error",
     "traceback": [
      "\u001b[1;31m---------------------------------------------------------------------------\u001b[0m",
      "\u001b[1;31mTypeError\u001b[0m                                 Traceback (most recent call last)",
      "\u001b[1;32m~\\AppData\\Local\\Temp/ipykernel_12328/941582924.py\u001b[0m in \u001b[0;36m<module>\u001b[1;34m\u001b[0m\n\u001b[1;32m----> 1\u001b[1;33m \u001b[0mcm\u001b[0m \u001b[1;33m=\u001b[0m \u001b[0mconfusion_matrix\u001b[0m\u001b[1;33m(\u001b[0m\u001b[0my_true\u001b[0m\u001b[1;33m=\u001b[0m\u001b[0mtestY\u001b[0m\u001b[1;33m,\u001b[0m \u001b[0my_pred\u001b[0m\u001b[1;33m=\u001b[0m\u001b[0mnb_predY2\u001b[0m\u001b[1;33m)\u001b[0m\u001b[1;33m\u001b[0m\u001b[1;33m\u001b[0m\u001b[0m\n\u001b[0m\u001b[0;32m      2\u001b[0m \u001b[0max\u001b[0m\u001b[1;33m=\u001b[0m \u001b[0mplt\u001b[0m\u001b[1;33m.\u001b[0m\u001b[0msubplot\u001b[0m\u001b[1;33m(\u001b[0m\u001b[1;33m)\u001b[0m\u001b[1;33m\u001b[0m\u001b[1;33m\u001b[0m\u001b[0m\n\u001b[0;32m      3\u001b[0m \u001b[0msb\u001b[0m\u001b[1;33m.\u001b[0m\u001b[0mheatmap\u001b[0m\u001b[1;33m(\u001b[0m\u001b[0mcm\u001b[0m\u001b[1;33m,\u001b[0m \u001b[0mannot\u001b[0m\u001b[1;33m=\u001b[0m\u001b[1;32mTrue\u001b[0m\u001b[1;33m,\u001b[0m \u001b[0max\u001b[0m \u001b[1;33m=\u001b[0m \u001b[0max\u001b[0m\u001b[1;33m,\u001b[0m \u001b[0mfmt\u001b[0m \u001b[1;33m=\u001b[0m \u001b[1;34m'g'\u001b[0m\u001b[1;33m,\u001b[0m \u001b[0mcmap\u001b[0m\u001b[1;33m=\u001b[0m\u001b[1;34m'PuRd'\u001b[0m\u001b[1;33m)\u001b[0m\u001b[1;33m;\u001b[0m\u001b[1;33m\u001b[0m\u001b[1;33m\u001b[0m\u001b[0m\n\u001b[0;32m      4\u001b[0m \u001b[1;33m\u001b[0m\u001b[0m\n\u001b[0;32m      5\u001b[0m \u001b[0max\u001b[0m\u001b[1;33m.\u001b[0m\u001b[0mset_xlabel\u001b[0m\u001b[1;33m(\u001b[0m\u001b[1;34m'Predicted'\u001b[0m\u001b[1;33m,\u001b[0m \u001b[0mfontsize\u001b[0m\u001b[1;33m=\u001b[0m\u001b[1;36m20\u001b[0m\u001b[1;33m)\u001b[0m\u001b[1;33m\u001b[0m\u001b[1;33m\u001b[0m\u001b[0m\n",
      "\u001b[1;31mTypeError\u001b[0m: 'numpy.ndarray' object is not callable"
     ]
    }
   ],
   "source": [
    "cm = confusion_matrix(y_true=testY, y_pred=nb_predY2)\n",
    "ax= plt.subplot()\n",
    "sb.heatmap(cm, annot=True, ax = ax, fmt = 'g', cmap='PuRd'); \n",
    "\n",
    "ax.set_xlabel('Predicted', fontsize=20)\n",
    "ax.xaxis.set_ticklabels(['ham', 'spam'], fontsize = 15)\n",
    "\n",
    "ax.set_ylabel('Actual', fontsize=20)\n",
    "ax.yaxis.set_ticklabels(['ham', 'spam'], fontsize = 15)"
   ]
  },
  {
   "cell_type": "code",
   "execution_count": 34,
   "id": "a565163f",
   "metadata": {},
   "outputs": [
    {
     "data": {
      "text/plain": [
       "0.9889622364166021"
      ]
     },
     "execution_count": 34,
     "metadata": {},
     "output_type": "execute_result"
    }
   ],
   "source": [
    "nb_probs = nb_clf.predict_proba(testX)\n",
    "nb_probs = nb_probs[:, 1]\n",
    "nb_auc = roc_auc_score(testY, nb_probs)\n",
    "nb_fpr, nb_tpr, _ = roc_curve(testY, nb_probs)\n",
    "nb_auc"
   ]
  },
  {
   "attachments": {},
   "cell_type": "markdown",
   "id": "a9ccf264",
   "metadata": {},
   "source": [
    "### 3- K-Nearest Neighbour (KNN)"
   ]
  },
  {
   "cell_type": "code",
   "execution_count": 35,
   "id": "fae3ca87",
   "metadata": {},
   "outputs": [
    {
     "data": {
      "text/plain": [
       "KNeighborsClassifier(n_neighbors=2)"
      ]
     },
     "execution_count": 35,
     "metadata": {},
     "output_type": "execute_result"
    }
   ],
   "source": [
    "# Starting with randon k=2\n",
    "knn_clf = KNeighborsClassifier(n_neighbors = 2) \n",
    "knn_clf.fit(trainX,  trainY)\n"
   ]
  },
  {
   "cell_type": "code",
   "execution_count": 36,
   "id": "40eb9fef",
   "metadata": {},
   "outputs": [
    {
     "name": "stdout",
     "output_type": "stream",
     "text": [
      "              precision    recall  f1-score   support\n",
      "\n",
      "           0       0.96      0.99      0.97      1207\n",
      "           1       0.92      0.72      0.80       186\n",
      "\n",
      "    accuracy                           0.95      1393\n",
      "   macro avg       0.94      0.85      0.89      1393\n",
      "weighted avg       0.95      0.95      0.95      1393\n",
      "\n"
     ]
    }
   ],
   "source": [
    "knn_predY = knn_clf.predict(testX)\n",
    "knn_clf_report = classification_report(testY,knn_predY)\n",
    "print(knn_clf_report)"
   ]
  },
  {
   "cell_type": "code",
   "execution_count": 42,
   "id": "4ff31f0f",
   "metadata": {},
   "outputs": [
    {
     "name": "stdout",
     "output_type": "stream",
     "text": [
      "Fitting 5 folds for each of 20 candidates, totalling 100 fits\n",
      "[CV] END .........................leaf_size=1, n_neighbors=2; total time=   2.0s\n",
      "[CV] END .........................leaf_size=1, n_neighbors=2; total time=   1.7s\n",
      "[CV] END .........................leaf_size=1, n_neighbors=2; total time=   1.8s\n",
      "[CV] END .........................leaf_size=1, n_neighbors=2; total time=   1.8s\n",
      "[CV] END .........................leaf_size=1, n_neighbors=2; total time=   1.7s\n",
      "[CV] END .........................leaf_size=1, n_neighbors=4; total time=   1.8s\n",
      "[CV] END .........................leaf_size=1, n_neighbors=4; total time=   1.8s\n",
      "[CV] END .........................leaf_size=1, n_neighbors=4; total time=   1.8s\n",
      "[CV] END .........................leaf_size=1, n_neighbors=4; total time=   1.8s\n",
      "[CV] END .........................leaf_size=1, n_neighbors=4; total time=   1.7s\n",
      "[CV] END .........................leaf_size=1, n_neighbors=6; total time=   1.8s\n",
      "[CV] END .........................leaf_size=1, n_neighbors=6; total time=   1.8s\n",
      "[CV] END .........................leaf_size=1, n_neighbors=6; total time=   1.8s\n",
      "[CV] END .........................leaf_size=1, n_neighbors=6; total time=   1.9s\n",
      "[CV] END .........................leaf_size=1, n_neighbors=6; total time=   1.8s\n",
      "[CV] END .........................leaf_size=1, n_neighbors=8; total time=   1.8s\n",
      "[CV] END .........................leaf_size=1, n_neighbors=8; total time=   1.8s\n",
      "[CV] END .........................leaf_size=1, n_neighbors=8; total time=   1.8s\n",
      "[CV] END .........................leaf_size=1, n_neighbors=8; total time=   1.8s\n",
      "[CV] END .........................leaf_size=1, n_neighbors=8; total time=   1.7s\n",
      "[CV] END ........................leaf_size=1, n_neighbors=10; total time=   1.8s\n",
      "[CV] END ........................leaf_size=1, n_neighbors=10; total time=   1.7s\n",
      "[CV] END ........................leaf_size=1, n_neighbors=10; total time=   1.7s\n",
      "[CV] END ........................leaf_size=1, n_neighbors=10; total time=   1.8s\n",
      "[CV] END ........................leaf_size=1, n_neighbors=10; total time=   1.8s\n",
      "[CV] END .........................leaf_size=2, n_neighbors=2; total time=   1.7s\n",
      "[CV] END .........................leaf_size=2, n_neighbors=2; total time=   1.8s\n",
      "[CV] END .........................leaf_size=2, n_neighbors=2; total time=   1.7s\n",
      "[CV] END .........................leaf_size=2, n_neighbors=2; total time=   1.8s\n",
      "[CV] END .........................leaf_size=2, n_neighbors=2; total time=   2.2s\n",
      "[CV] END .........................leaf_size=2, n_neighbors=4; total time=   1.7s\n",
      "[CV] END .........................leaf_size=2, n_neighbors=4; total time=   1.7s\n",
      "[CV] END .........................leaf_size=2, n_neighbors=4; total time=   1.7s\n",
      "[CV] END .........................leaf_size=2, n_neighbors=4; total time=   1.7s\n",
      "[CV] END .........................leaf_size=2, n_neighbors=4; total time=   1.8s\n",
      "[CV] END .........................leaf_size=2, n_neighbors=6; total time=   1.7s\n",
      "[CV] END .........................leaf_size=2, n_neighbors=6; total time=   1.7s\n",
      "[CV] END .........................leaf_size=2, n_neighbors=6; total time=   1.8s\n",
      "[CV] END .........................leaf_size=2, n_neighbors=6; total time=   1.7s\n",
      "[CV] END .........................leaf_size=2, n_neighbors=6; total time=   1.7s\n",
      "[CV] END .........................leaf_size=2, n_neighbors=8; total time=   1.8s\n",
      "[CV] END .........................leaf_size=2, n_neighbors=8; total time=   1.8s\n",
      "[CV] END .........................leaf_size=2, n_neighbors=8; total time=   1.7s\n",
      "[CV] END .........................leaf_size=2, n_neighbors=8; total time=   1.8s\n",
      "[CV] END .........................leaf_size=2, n_neighbors=8; total time=   1.7s\n",
      "[CV] END ........................leaf_size=2, n_neighbors=10; total time=   1.8s\n",
      "[CV] END ........................leaf_size=2, n_neighbors=10; total time=   1.7s\n",
      "[CV] END ........................leaf_size=2, n_neighbors=10; total time=   1.7s\n",
      "[CV] END ........................leaf_size=2, n_neighbors=10; total time=   1.7s\n",
      "[CV] END ........................leaf_size=2, n_neighbors=10; total time=   1.8s\n",
      "[CV] END .........................leaf_size=3, n_neighbors=2; total time=   1.7s\n",
      "[CV] END .........................leaf_size=3, n_neighbors=2; total time=   1.8s\n",
      "[CV] END .........................leaf_size=3, n_neighbors=2; total time=   1.7s\n",
      "[CV] END .........................leaf_size=3, n_neighbors=2; total time=   1.7s\n",
      "[CV] END .........................leaf_size=3, n_neighbors=2; total time=   1.7s\n",
      "[CV] END .........................leaf_size=3, n_neighbors=4; total time=   1.7s\n",
      "[CV] END .........................leaf_size=3, n_neighbors=4; total time=   1.9s\n",
      "[CV] END .........................leaf_size=3, n_neighbors=4; total time=   1.7s\n",
      "[CV] END .........................leaf_size=3, n_neighbors=4; total time=   1.7s\n",
      "[CV] END .........................leaf_size=3, n_neighbors=4; total time=   1.7s\n",
      "[CV] END .........................leaf_size=3, n_neighbors=6; total time=   1.7s\n",
      "[CV] END .........................leaf_size=3, n_neighbors=6; total time=   2.1s\n",
      "[CV] END .........................leaf_size=3, n_neighbors=6; total time=   1.7s\n",
      "[CV] END .........................leaf_size=3, n_neighbors=6; total time=   1.7s\n",
      "[CV] END .........................leaf_size=3, n_neighbors=6; total time=   1.8s\n",
      "[CV] END .........................leaf_size=3, n_neighbors=8; total time=   1.7s\n",
      "[CV] END .........................leaf_size=3, n_neighbors=8; total time=   1.8s\n",
      "[CV] END .........................leaf_size=3, n_neighbors=8; total time=   1.8s\n",
      "[CV] END .........................leaf_size=3, n_neighbors=8; total time=   1.8s\n",
      "[CV] END .........................leaf_size=3, n_neighbors=8; total time=   2.0s\n",
      "[CV] END ........................leaf_size=3, n_neighbors=10; total time=   2.2s\n",
      "[CV] END ........................leaf_size=3, n_neighbors=10; total time=   2.4s\n",
      "[CV] END ........................leaf_size=3, n_neighbors=10; total time=   1.9s\n",
      "[CV] END ........................leaf_size=3, n_neighbors=10; total time=   1.8s\n",
      "[CV] END ........................leaf_size=3, n_neighbors=10; total time=   1.7s\n",
      "[CV] END .........................leaf_size=4, n_neighbors=2; total time=   1.8s\n",
      "[CV] END .........................leaf_size=4, n_neighbors=2; total time=   1.8s\n",
      "[CV] END .........................leaf_size=4, n_neighbors=2; total time=   1.8s\n",
      "[CV] END .........................leaf_size=4, n_neighbors=2; total time=   1.8s\n",
      "[CV] END .........................leaf_size=4, n_neighbors=2; total time=   1.7s\n",
      "[CV] END .........................leaf_size=4, n_neighbors=4; total time=   1.8s\n",
      "[CV] END .........................leaf_size=4, n_neighbors=4; total time=   1.8s\n",
      "[CV] END .........................leaf_size=4, n_neighbors=4; total time=   1.7s\n",
      "[CV] END .........................leaf_size=4, n_neighbors=4; total time=   1.7s\n",
      "[CV] END .........................leaf_size=4, n_neighbors=4; total time=   1.8s\n",
      "[CV] END .........................leaf_size=4, n_neighbors=6; total time=   1.9s\n",
      "[CV] END .........................leaf_size=4, n_neighbors=6; total time=   1.7s\n",
      "[CV] END .........................leaf_size=4, n_neighbors=6; total time=   1.8s\n",
      "[CV] END .........................leaf_size=4, n_neighbors=6; total time=   2.0s\n",
      "[CV] END .........................leaf_size=4, n_neighbors=6; total time=   1.9s\n",
      "[CV] END .........................leaf_size=4, n_neighbors=8; total time=   2.2s\n",
      "[CV] END .........................leaf_size=4, n_neighbors=8; total time=   2.1s\n",
      "[CV] END .........................leaf_size=4, n_neighbors=8; total time=   1.8s\n",
      "[CV] END .........................leaf_size=4, n_neighbors=8; total time=   2.0s\n",
      "[CV] END .........................leaf_size=4, n_neighbors=8; total time=   2.0s\n",
      "[CV] END ........................leaf_size=4, n_neighbors=10; total time=   1.9s\n",
      "[CV] END ........................leaf_size=4, n_neighbors=10; total time=   1.7s\n",
      "[CV] END ........................leaf_size=4, n_neighbors=10; total time=   1.7s\n",
      "[CV] END ........................leaf_size=4, n_neighbors=10; total time=   1.8s\n",
      "[CV] END ........................leaf_size=4, n_neighbors=10; total time=   1.7s\n",
      "Best Params:  {'leaf_size': 1, 'n_neighbors': 4}\n"
     ]
    }
   ],
   "source": [
    "knn_params = {\n",
    "    'n_neighbors': [2,4,6,8,10],\n",
    "    'leaf_size':[1,2,3,4]\n",
    "    }\n",
    "\n",
    "knn_clf2 = GridSearchCV(KNeighborsClassifier(), knn_params, verbose=2)\n",
    "knn_clf2.fit(trainX, trainY)  \n",
    "\n",
    "#Print The value of best Hyperparameters\n",
    "print(\"Best Params: \", knn_clf2.best_params_)"
   ]
  },
  {
   "cell_type": "code",
   "execution_count": 37,
   "id": "a802535e",
   "metadata": {},
   "outputs": [
    {
     "data": {
      "text/plain": [
       "KNeighborsClassifier(leaf_size=1, n_neighbors=4)"
      ]
     },
     "execution_count": 37,
     "metadata": {},
     "output_type": "execute_result"
    }
   ],
   "source": [
    "#Using the best Parameters\n",
    "knn_clf = KNeighborsClassifier(n_neighbors = 4, leaf_size=1) \n",
    "knn_clf.fit(trainX,  trainY)"
   ]
  },
  {
   "cell_type": "code",
   "execution_count": 38,
   "id": "19b50986",
   "metadata": {},
   "outputs": [
    {
     "name": "stdout",
     "output_type": "stream",
     "text": [
      "              precision    recall  f1-score   support\n",
      "\n",
      "           0       0.99      0.99      0.99      1207\n",
      "           1       0.92      0.93      0.92       186\n",
      "\n",
      "    accuracy                           0.98      1393\n",
      "   macro avg       0.95      0.96      0.96      1393\n",
      "weighted avg       0.98      0.98      0.98      1393\n",
      "\n"
     ]
    }
   ],
   "source": [
    "knn_predY2 = knn_clf.predict(testX)\n",
    "knn_clf_report = classification_report(testY,knn_predY2)\n",
    "print(knn_clf_report)"
   ]
  },
  {
   "cell_type": "code",
   "execution_count": 39,
   "id": "16ee6289",
   "metadata": {},
   "outputs": [
    {
     "ename": "TypeError",
     "evalue": "'numpy.ndarray' object is not callable",
     "output_type": "error",
     "traceback": [
      "\u001b[1;31m---------------------------------------------------------------------------\u001b[0m",
      "\u001b[1;31mTypeError\u001b[0m                                 Traceback (most recent call last)",
      "\u001b[1;32m~\\AppData\\Local\\Temp/ipykernel_12328/3105778110.py\u001b[0m in \u001b[0;36m<module>\u001b[1;34m\u001b[0m\n\u001b[1;32m----> 1\u001b[1;33m \u001b[0mcm\u001b[0m \u001b[1;33m=\u001b[0m \u001b[0mconfusion_matrix\u001b[0m\u001b[1;33m(\u001b[0m\u001b[0my_true\u001b[0m\u001b[1;33m=\u001b[0m\u001b[0mtestY\u001b[0m\u001b[1;33m,\u001b[0m \u001b[0my_pred\u001b[0m\u001b[1;33m=\u001b[0m\u001b[0mknn_predY2\u001b[0m\u001b[1;33m)\u001b[0m\u001b[1;33m\u001b[0m\u001b[1;33m\u001b[0m\u001b[0m\n\u001b[0m\u001b[0;32m      2\u001b[0m \u001b[1;33m\u001b[0m\u001b[0m\n\u001b[0;32m      3\u001b[0m \u001b[0max\u001b[0m\u001b[1;33m=\u001b[0m \u001b[0mplt\u001b[0m\u001b[1;33m.\u001b[0m\u001b[0msubplot\u001b[0m\u001b[1;33m(\u001b[0m\u001b[1;33m)\u001b[0m\u001b[1;33m\u001b[0m\u001b[1;33m\u001b[0m\u001b[0m\n\u001b[0;32m      4\u001b[0m \u001b[0msb\u001b[0m\u001b[1;33m.\u001b[0m\u001b[0mheatmap\u001b[0m\u001b[1;33m(\u001b[0m\u001b[0mcm\u001b[0m\u001b[1;33m,\u001b[0m \u001b[0mannot\u001b[0m\u001b[1;33m=\u001b[0m\u001b[1;32mTrue\u001b[0m\u001b[1;33m,\u001b[0m \u001b[0max\u001b[0m \u001b[1;33m=\u001b[0m \u001b[0max\u001b[0m\u001b[1;33m,\u001b[0m \u001b[0mfmt\u001b[0m \u001b[1;33m=\u001b[0m \u001b[1;34m'g'\u001b[0m\u001b[1;33m,\u001b[0m \u001b[0mcmap\u001b[0m\u001b[1;33m=\u001b[0m\u001b[1;34m'PuRd'\u001b[0m\u001b[1;33m)\u001b[0m\u001b[1;33m;\u001b[0m\u001b[1;33m\u001b[0m\u001b[1;33m\u001b[0m\u001b[0m\n\u001b[0;32m      5\u001b[0m \u001b[1;33m\u001b[0m\u001b[0m\n",
      "\u001b[1;31mTypeError\u001b[0m: 'numpy.ndarray' object is not callable"
     ]
    }
   ],
   "source": [
    "cm = confusion_matrix(y_true=testY, y_pred=knn_predY2)\n",
    "\n",
    "ax= plt.subplot()\n",
    "sb.heatmap(cm, annot=True, ax = ax, fmt = 'g', cmap='PuRd'); \n",
    "\n",
    "ax.set_xlabel('Predicted', fontsize=20)\n",
    "ax.xaxis.set_ticklabels(['ham', 'spam'], fontsize = 15)\n",
    "\n",
    "ax.set_ylabel('Actual', fontsize=20)\n",
    "ax.yaxis.set_ticklabels(['ham', 'spam'], fontsize = 15)"
   ]
  },
  {
   "cell_type": "code",
   "execution_count": 40,
   "id": "48b5e8a6",
   "metadata": {},
   "outputs": [
    {
     "data": {
      "text/plain": [
       "0.9257423096453483"
      ]
     },
     "execution_count": 40,
     "metadata": {},
     "output_type": "execute_result"
    }
   ],
   "source": [
    "knn_probs = knn_clf.predict_proba(testX)\n",
    "knn_probs = knn_probs[:, 1]\n",
    "knn_auc = roc_auc_score(testY, knn_probs)\n",
    "knn_fpr, knn_tpr, _ = roc_curve(testY, knn_probs)\n",
    "knn_auc"
   ]
  },
  {
   "attachments": {},
   "cell_type": "markdown",
   "id": "3dcc1449",
   "metadata": {},
   "source": [
    "### 4 - Support Vector Machine (SVM)"
   ]
  },
  {
   "cell_type": "code",
   "execution_count": 41,
   "id": "9b4564be",
   "metadata": {},
   "outputs": [
    {
     "data": {
      "text/plain": [
       "SVC(C=1, gamma=0.1)"
      ]
     },
     "execution_count": 41,
     "metadata": {},
     "output_type": "execute_result"
    }
   ],
   "source": [
    "svm_clf = SVC(kernel = 'rbf', C=1, gamma = 0.1)\n",
    "svm_clf.fit(trainX, trainY)"
   ]
  },
  {
   "cell_type": "code",
   "execution_count": 42,
   "id": "5b9a1464",
   "metadata": {},
   "outputs": [
    {
     "name": "stdout",
     "output_type": "stream",
     "text": [
      "              precision    recall  f1-score   support\n",
      "\n",
      "           0       0.94      1.00      0.97      1207\n",
      "           1       1.00      0.56      0.72       186\n",
      "\n",
      "    accuracy                           0.94      1393\n",
      "   macro avg       0.97      0.78      0.84      1393\n",
      "weighted avg       0.94      0.94      0.93      1393\n",
      "\n"
     ]
    }
   ],
   "source": [
    "svm_predY = svm_clf.predict(testX)\n",
    "svm_clf_report = classification_report(testY,svm_predY)\n",
    "print(svm_clf_report)"
   ]
  },
  {
   "cell_type": "code",
   "execution_count": null,
   "id": "d9830e21",
   "metadata": {},
   "outputs": [],
   "source": []
  },
  {
   "cell_type": "code",
   "execution_count": null,
   "id": "f3d735e9",
   "metadata": {},
   "outputs": [],
   "source": []
  },
  {
   "cell_type": "code",
   "execution_count": 45,
   "id": "56fc982b",
   "metadata": {
    "scrolled": false
   },
   "outputs": [
    {
     "name": "stdout",
     "output_type": "stream",
     "text": [
      "Fitting 5 folds for each of 16 candidates, totalling 80 fits\n",
      "[CV] END .....................................C=0.1, gamma=1; total time= 1.5min\n",
      "[CV] END .....................................C=0.1, gamma=1; total time= 1.6min\n",
      "[CV] END .....................................C=0.1, gamma=1; total time= 1.5min\n",
      "[CV] END .....................................C=0.1, gamma=1; total time= 1.5min\n",
      "[CV] END .....................................C=0.1, gamma=1; total time= 1.5min\n",
      "[CV] END ...................................C=0.1, gamma=0.1; total time=  53.8s\n",
      "[CV] END ...................................C=0.1, gamma=0.1; total time=  57.1s\n",
      "[CV] END ...................................C=0.1, gamma=0.1; total time= 1.1min\n",
      "[CV] END ...................................C=0.1, gamma=0.1; total time= 1.2min\n",
      "[CV] END ...................................C=0.1, gamma=0.1; total time= 1.1min\n",
      "[CV] END ..................................C=0.1, gamma=0.01; total time=  47.0s\n",
      "[CV] END ..................................C=0.1, gamma=0.01; total time=  42.5s\n",
      "[CV] END ..................................C=0.1, gamma=0.01; total time=  43.4s\n",
      "[CV] END ..................................C=0.1, gamma=0.01; total time=  41.6s\n",
      "[CV] END ..................................C=0.1, gamma=0.01; total time=  44.4s\n",
      "[CV] END .................................C=0.1, gamma=0.001; total time=  39.7s\n",
      "[CV] END .................................C=0.1, gamma=0.001; total time=  35.1s\n",
      "[CV] END .................................C=0.1, gamma=0.001; total time=  36.8s\n",
      "[CV] END .................................C=0.1, gamma=0.001; total time=  34.3s\n",
      "[CV] END .................................C=0.1, gamma=0.001; total time=  35.8s\n",
      "[CV] END .......................................C=1, gamma=1; total time= 1.9min\n",
      "[CV] END .......................................C=1, gamma=1; total time= 1.8min\n",
      "[CV] END .......................................C=1, gamma=1; total time= 1.9min\n",
      "[CV] END .......................................C=1, gamma=1; total time= 1.9min\n",
      "[CV] END .......................................C=1, gamma=1; total time= 2.0min\n",
      "[CV] END .....................................C=1, gamma=0.1; total time= 1.4min\n",
      "[CV] END .....................................C=1, gamma=0.1; total time= 1.3min\n",
      "[CV] END .....................................C=1, gamma=0.1; total time= 1.2min\n",
      "[CV] END .....................................C=1, gamma=0.1; total time= 1.2min\n",
      "[CV] END .....................................C=1, gamma=0.1; total time= 1.5min\n",
      "[CV] END ....................................C=1, gamma=0.01; total time=  45.2s\n",
      "[CV] END ....................................C=1, gamma=0.01; total time=  43.7s\n",
      "[CV] END ....................................C=1, gamma=0.01; total time=  45.4s\n",
      "[CV] END ....................................C=1, gamma=0.01; total time=  48.9s\n",
      "[CV] END ....................................C=1, gamma=0.01; total time=  47.0s\n",
      "[CV] END ...................................C=1, gamma=0.001; total time=  39.2s\n",
      "[CV] END ...................................C=1, gamma=0.001; total time=  37.7s\n",
      "[CV] END ...................................C=1, gamma=0.001; total time=  37.3s\n",
      "[CV] END ...................................C=1, gamma=0.001; total time=  37.6s\n",
      "[CV] END ...................................C=1, gamma=0.001; total time=  37.5s\n",
      "[CV] END ......................................C=10, gamma=1; total time= 1.9min\n",
      "[CV] END ......................................C=10, gamma=1; total time= 1.9min\n",
      "[CV] END ......................................C=10, gamma=1; total time= 1.9min\n",
      "[CV] END ......................................C=10, gamma=1; total time= 1.9min\n",
      "[CV] END ......................................C=10, gamma=1; total time= 1.9min\n",
      "[CV] END ....................................C=10, gamma=0.1; total time= 1.6min\n",
      "[CV] END ....................................C=10, gamma=0.1; total time= 1.5min\n",
      "[CV] END ....................................C=10, gamma=0.1; total time= 1.5min\n",
      "[CV] END ....................................C=10, gamma=0.1; total time= 1.5min\n",
      "[CV] END ....................................C=10, gamma=0.1; total time= 1.5min\n",
      "[CV] END ...................................C=10, gamma=0.01; total time=  45.7s\n",
      "[CV] END ...................................C=10, gamma=0.01; total time=  44.5s\n",
      "[CV] END ...................................C=10, gamma=0.01; total time=  45.0s\n",
      "[CV] END ...................................C=10, gamma=0.01; total time=  46.3s\n",
      "[CV] END ...................................C=10, gamma=0.01; total time=  46.0s\n",
      "[CV] END ..................................C=10, gamma=0.001; total time=  38.0s\n",
      "[CV] END ..................................C=10, gamma=0.001; total time=  38.2s\n",
      "[CV] END ..................................C=10, gamma=0.001; total time=  38.3s\n",
      "[CV] END ..................................C=10, gamma=0.001; total time=  38.3s\n",
      "[CV] END ..................................C=10, gamma=0.001; total time=  38.6s\n",
      "[CV] END .....................................C=100, gamma=1; total time= 1.9min\n",
      "[CV] END .....................................C=100, gamma=1; total time= 1.9min\n",
      "[CV] END .....................................C=100, gamma=1; total time= 1.9min\n",
      "[CV] END .....................................C=100, gamma=1; total time= 1.9min\n",
      "[CV] END .....................................C=100, gamma=1; total time= 1.9min\n",
      "[CV] END ...................................C=100, gamma=0.1; total time= 1.5min\n",
      "[CV] END ...................................C=100, gamma=0.1; total time= 1.5min\n",
      "[CV] END ...................................C=100, gamma=0.1; total time= 1.5min\n",
      "[CV] END ...................................C=100, gamma=0.1; total time= 1.5min\n",
      "[CV] END ...................................C=100, gamma=0.1; total time= 1.8min\n",
      "[CV] END ..................................C=100, gamma=0.01; total time=  51.7s\n",
      "[CV] END ..................................C=100, gamma=0.01; total time=  48.0s\n",
      "[CV] END ..................................C=100, gamma=0.01; total time=  48.0s\n",
      "[CV] END ..................................C=100, gamma=0.01; total time=  48.1s\n",
      "[CV] END ..................................C=100, gamma=0.01; total time=  50.9s\n",
      "[CV] END .................................C=100, gamma=0.001; total time=  35.5s\n",
      "[CV] END .................................C=100, gamma=0.001; total time=  35.7s\n",
      "[CV] END .................................C=100, gamma=0.001; total time=  36.0s\n",
      "[CV] END .................................C=100, gamma=0.001; total time=  35.8s\n",
      "[CV] END .................................C=100, gamma=0.001; total time=  35.6s\n"
     ]
    },
    {
     "data": {
      "text/plain": [
       "GridSearchCV(estimator=SVC(),\n",
       "             param_grid={'C': [0.1, 1, 10, 100],\n",
       "                         'gamma': [1, 0.1, 0.01, 0.001]},\n",
       "             verbose=2)"
      ]
     },
     "execution_count": 45,
     "metadata": {},
     "output_type": "execute_result"
    }
   ],
   "source": [
    "svm_params = {'C': [0.1,1, 10, 100], 'gamma': [1,0.1,0.01,0.001]}\n",
    "svm_clf2 = GridSearchCV(SVC(),svm_params, verbose=2)\n",
    "svm_clf2.fit(trainX, trainY)"
   ]
  },
  {
   "cell_type": "code",
   "execution_count": 43,
   "id": "6fd8ada6",
   "metadata": {},
   "outputs": [
    {
     "ename": "NameError",
     "evalue": "name 'svm_clf2' is not defined",
     "output_type": "error",
     "traceback": [
      "\u001b[1;31m---------------------------------------------------------------------------\u001b[0m",
      "\u001b[1;31mNameError\u001b[0m                                 Traceback (most recent call last)",
      "\u001b[1;32m~\\AppData\\Local\\Temp/ipykernel_12328/2249057761.py\u001b[0m in \u001b[0;36m<module>\u001b[1;34m\u001b[0m\n\u001b[1;32m----> 1\u001b[1;33m \u001b[0mprint\u001b[0m\u001b[1;33m(\u001b[0m\u001b[1;34m\"Best parameters: \"\u001b[0m\u001b[1;33m,\u001b[0m\u001b[0msvm_clf2\u001b[0m\u001b[1;33m.\u001b[0m\u001b[0mbest_estimator_\u001b[0m\u001b[1;33m)\u001b[0m\u001b[1;33m\u001b[0m\u001b[1;33m\u001b[0m\u001b[0m\n\u001b[0m",
      "\u001b[1;31mNameError\u001b[0m: name 'svm_clf2' is not defined"
     ]
    }
   ],
   "source": [
    "print(\"Best parameters: \",svm_clf2.best_estimator_)"
   ]
  },
  {
   "cell_type": "code",
   "execution_count": 44,
   "id": "b5277353",
   "metadata": {},
   "outputs": [
    {
     "data": {
      "text/plain": [
       "SVC(C=100, gamma=0.01, probability=True)"
      ]
     },
     "execution_count": 44,
     "metadata": {},
     "output_type": "execute_result"
    }
   ],
   "source": [
    "#Using best parameters\n",
    "svm_clf = SVC(C=100, gamma = 0.01, probability=True)\n",
    "svm_clf.fit(trainX,  trainY)"
   ]
  },
  {
   "cell_type": "code",
   "execution_count": 45,
   "id": "b09f96c9",
   "metadata": {},
   "outputs": [
    {
     "name": "stdout",
     "output_type": "stream",
     "text": [
      "              precision    recall  f1-score   support\n",
      "\n",
      "           0       0.98      1.00      0.99      1207\n",
      "           1       1.00      0.86      0.92       186\n",
      "\n",
      "    accuracy                           0.98      1393\n",
      "   macro avg       0.99      0.93      0.96      1393\n",
      "weighted avg       0.98      0.98      0.98      1393\n",
      "\n"
     ]
    }
   ],
   "source": [
    "svm_predY2 = svm_clf.predict(testX)\n",
    "svm_clf_report = classification_report(testY,svm_predY2)\n",
    "print(svm_clf_report)"
   ]
  },
  {
   "cell_type": "code",
   "execution_count": 46,
   "id": "097fcf42",
   "metadata": {},
   "outputs": [
    {
     "ename": "TypeError",
     "evalue": "'numpy.ndarray' object is not callable",
     "output_type": "error",
     "traceback": [
      "\u001b[1;31m---------------------------------------------------------------------------\u001b[0m",
      "\u001b[1;31mTypeError\u001b[0m                                 Traceback (most recent call last)",
      "\u001b[1;32m~\\AppData\\Local\\Temp/ipykernel_12328/3406130516.py\u001b[0m in \u001b[0;36m<module>\u001b[1;34m\u001b[0m\n\u001b[1;32m----> 1\u001b[1;33m \u001b[0mcm\u001b[0m \u001b[1;33m=\u001b[0m \u001b[0mconfusion_matrix\u001b[0m\u001b[1;33m(\u001b[0m\u001b[0my_true\u001b[0m\u001b[1;33m=\u001b[0m\u001b[0mtestY\u001b[0m\u001b[1;33m,\u001b[0m \u001b[0my_pred\u001b[0m\u001b[1;33m=\u001b[0m\u001b[0msvm_predY2\u001b[0m\u001b[1;33m)\u001b[0m\u001b[1;33m\u001b[0m\u001b[1;33m\u001b[0m\u001b[0m\n\u001b[0m\u001b[0;32m      2\u001b[0m \u001b[0mcm\u001b[0m\u001b[1;33m\u001b[0m\u001b[1;33m\u001b[0m\u001b[0m\n",
      "\u001b[1;31mTypeError\u001b[0m: 'numpy.ndarray' object is not callable"
     ]
    }
   ],
   "source": [
    "cm = confusion_matrix(y_true=testY, y_pred=svm_predY2)\n",
    "cm"
   ]
  },
  {
   "cell_type": "code",
   "execution_count": null,
   "id": "35aa47b9",
   "metadata": {},
   "outputs": [],
   "source": [
    "cm = confusion_matrix(y_true=testY, y_pred=svm_predY2)\n",
    "\n",
    "ax= plt.subplot()\n",
    "sb.heatmap(cm, annot=True, ax = ax, fmt = 'g', cmap='PuRd'); \n",
    "\n",
    "ax.set_xlabel('Predicted', fontsize=20)\n",
    "ax.xaxis.set_ticklabels(['ham', 'spam'], fontsize = 15)\n",
    "\n",
    "ax.set_ylabel('Actual', fontsize=20)\n",
    "ax.yaxis.set_ticklabels(['ham', 'spam'], fontsize = 15)"
   ]
  },
  {
   "cell_type": "code",
   "execution_count": 47,
   "id": "a9388f29",
   "metadata": {},
   "outputs": [
    {
     "data": {
      "text/plain": [
       "0.9908419524102235"
      ]
     },
     "execution_count": 47,
     "metadata": {},
     "output_type": "execute_result"
    }
   ],
   "source": [
    "svm_probs = svm_clf.predict_proba(testX)\n",
    "svm_probs = svm_probs[:, 1]\n",
    "svm_auc = roc_auc_score(testY, svm_probs)\n",
    "svm_fpr, svm_tpr, _ = roc_curve(testY, svm_probs)\n",
    "svm_auc"
   ]
  },
  {
   "attachments": {},
   "cell_type": "markdown",
   "id": "384ca10e",
   "metadata": {},
   "source": [
    "## Classifiers ROC \n"
   ]
  },
  {
   "cell_type": "code",
   "execution_count": 48,
   "id": "dd51156f",
   "metadata": {},
   "outputs": [
    {
     "data": {
      "text/plain": [
       "<matplotlib.legend.Legend at 0x2454f68e2e0>"
      ]
     },
     "execution_count": 48,
     "metadata": {},
     "output_type": "execute_result"
    },
    {
     "data": {
      "image/png": "[encoded data removed]",
      "text/plain": [
       "<Figure size 864x576 with 1 Axes>"
      ]
     },
     "metadata": {
      "needs_background": "light"
     },
     "output_type": "display_data"
    }
   ],
   "source": [
    "plt.figure(figsize=(12,8))\n",
    "plt.plot(svm_fpr, svm_tpr, linestyle='--', label='SVM')\n",
    "plt.plot(knn_fpr, knn_tpr, linestyle='-', label='KNN')\n",
    "plt.plot(nb_fpr, nb_tpr, linestyle='dashdot', label='Naive Bayes')\n",
    "plt.plot(tree_fpr, tree_tpr,  linestyle=':', label='Decision Tree')\n",
    "# axis labels\n",
    "plt.xlabel('False Positive Rate')\n",
    "plt.ylabel('True Positive Rate')\n",
    "plt.legend()"
   ]
  },
  {
   "attachments": {},
   "cell_type": "markdown",
   "id": "a8225ae1",
   "metadata": {},
   "source": [
    "## Summary"
   ]
  },
  {
   "cell_type": "code",
   "execution_count": 49,
   "id": "372264a4",
   "metadata": {},
   "outputs": [
    {
     "name": "stdout",
     "output_type": "stream",
     "text": [
      "------------- Accuracy -------------\n",
      "DT:          0.9669777458722182\n",
      "Naive Bayes: 0.9791816223977028\n",
      "KNN:         0.9569274946159368\n",
      "SVM:         0.9813352476669059\n"
     ]
    }
   ],
   "source": [
    "print(\"------------- Accuracy -------------\")\n",
    "print(\"DT:         \",tree_clf.score(testX, testY))\n",
    "print(\"Naive Bayes:\", nb_clf.score(testX, testY))\n",
    "print(\"KNN:        \", knn_clf.score(testX, testY))\n",
    "print(\"SVM:        \", svm_clf.score(testX, testY))"
   ]
  },
  {
   "cell_type": "code",
   "execution_count": 50,
   "id": "7a58a97c",
   "metadata": {},
   "outputs": [
    {
     "name": "stdout",
     "output_type": "stream",
     "text": [
      "------------- AUC -------------\n",
      "DT:          0.8812037309244461\n",
      "Naive Bayes: 0.9889622364166021\n",
      "KNN:         0.9257423096453483\n",
      "SVM:         0.9908419524102235\n"
     ]
    }
   ],
   "source": [
    "print(\"------------- AUC -------------\")\n",
    "print(\"DT:         \", tree_auc)\n",
    "print(\"Naive Bayes:\", nb_auc)\n",
    "print(\"KNN:        \", knn_auc)\n",
    "print(\"SVM:        \", svm_auc)"
   ]
  },
  {
   "cell_type": "code",
   "execution_count": 51,
   "id": "b40d40e7",
   "metadata": {},
   "outputs": [
    {
     "name": "stdout",
     "output_type": "stream",
     "text": [
      "------------- Precision -------------\n",
      "DT:          0.9320987654320988\n",
      "Naive Bayes: 0.9153439153439153\n",
      "KNN:         0.9153439153439153\n",
      "SVM:         1.0\n"
     ]
    }
   ],
   "source": [
    "print(\"------------- Precision -------------\")\n",
    "print(\"DT:         \", precision_score(testY, tree_predY2))\n",
    "print(\"Naive Bayes:\",  precision_score(testY, nb_predY2))\n",
    "print(\"KNN:        \",  precision_score(testY, knn_predY2))\n",
    "print(\"SVM:        \",  precision_score(testY, svm_predY2))"
   ]
  },
  {
   "cell_type": "code",
   "execution_count": 52,
   "id": "fe4d4fbd",
   "metadata": {},
   "outputs": [
    {
     "name": "stdout",
     "output_type": "stream",
     "text": [
      "------------- recall -------------\n",
      "DT:          0.8118279569892473\n",
      "Naive Bayes: 0.9301075268817204\n",
      "KNN:         0.9301075268817204\n",
      "SVM:         0.8602150537634409\n"
     ]
    }
   ],
   "source": [
    "print(\"------------- recall -------------\")\n",
    "print(\"DT:         \", recall_score(testY, tree_predY2))\n",
    "print(\"Naive Bayes:\",  recall_score(testY, nb_predY2))\n",
    "print(\"KNN:        \",  recall_score(testY, knn_predY2))\n",
    "print(\"SVM:        \",  recall_score(testY, svm_predY2))"
   ]
  },
  {
   "cell_type": "code",
   "execution_count": 53,
   "id": "4e64c83b",
   "metadata": {},
   "outputs": [
    {
     "name": "stdout",
     "output_type": "stream",
     "text": [
      "------------- F1 Score -------------\n",
      "DT:          0.867816091954023\n",
      "Naive Bayes: 0.9226666666666665\n",
      "KNN:         0.9226666666666665\n",
      "SVM:         0.9248554913294798\n"
     ]
    }
   ],
   "source": [
    "print(\"------------- F1 Score -------------\")\n",
    "print(\"DT:         \", f1_score(testY, tree_predY2))\n",
    "print(\"Naive Bayes:\",  f1_score(testY, nb_predY2))\n",
    "print(\"KNN:        \",  f1_score(testY, knn_predY2))\n",
    "print(\"SVM:        \",  f1_score(testY, svm_predY2))"
   ]
  },
  {
   "attachments": {},
   "cell_type": "markdown",
   "id": "0bdda085",
   "metadata": {},
   "source": [
    "## Conclusion"
   ]
  },
  {
   "attachments": {},
   "cell_type": "markdown",
   "id": "3f242efa",
   "metadata": {},
   "source": [
    "**<font size=3> When we examin the ROC plot and compare the accracy of each model, it shows that the SVM algorthim was the best classifier for the task with an accuracy of 98.13%, followed by the Naive Bayes, then decision tree and finally the last one was KNN with the lowest accracy of 95.69%. </font>**"
   ]
  },
  {
   "attachments": {},
   "cell_type": "markdown",
   "id": "6081eae6",
   "metadata": {},
   "source": [
    "**<font size=3>The dataset we used in this assignment is sparse, with a large number of features (high dimensional), also the dataset is imbalanced. This can cause problems for some classifiers. </font>**"
   ]
  },
  {
   "attachments": {},
   "cell_type": "markdown",
   "id": "f91c114c",
   "metadata": {},
   "source": [
    "**<font size=3> From the results we can conclude that the SVM algorithm is best suited for sparse data. Also SVM is effective in cases where the number of dimensions is greater than the number of samples. </font>**"
   ]
  },
  {
   "attachments": {},
   "cell_type": "markdown",
   "id": "77b07f93",
   "metadata": {},
   "source": [
    "**<font size=3>The results also go with the known disadvantages of KNN, which is that KNN struggles with large datasets. Also KNN does not perform well with imbalanced data.</font>**"
   ]
  },
  {
   "cell_type": "code",
   "execution_count": null,
   "id": "be5cb2bf",
   "metadata": {},
   "outputs": [],
   "source": []
  }
 ],
 "metadata": {
  "kernelspec": {
   "display_name": "Python 3 (ipykernel)",
   "language": "python",
   "name": "python3"
  },
  "language_info": {
   "codemirror_mode": {
    "name": "ipython",
    "version": 3
   },
   "file_extension": ".py",
   "mimetype": "text/x-python",
   "name": "python",
   "nbconvert_exporter": "python",
   "pygments_lexer": "ipython3",
   "version": "3.10.9"
  }
 },
 "nbformat": 4,
 "nbformat_minor": 5
}
